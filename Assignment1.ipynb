{
  "nbformat": 4,
  "nbformat_minor": 0,
  "metadata": {
    "colab": {
      "provenance": [],
      "authorship_tag": "ABX9TyMA7QlztyB7dp0zSi1rOJMO",
      "include_colab_link": true
    },
    "kernelspec": {
      "name": "python3",
      "display_name": "Python 3"
    },
    "language_info": {
      "name": "python"
    }
  },
  "cells": [
    {
      "cell_type": "markdown",
      "metadata": {
        "id": "view-in-github",
        "colab_type": "text"
      },
      "source": [
        "<a href=\"https://colab.research.google.com/github/Naveenkumarwebknot/AI-ML/blob/main/Assignment1.ipynb\" target=\"_parent\"><img src=\"https://colab.research.google.com/assets/colab-badge.svg\" alt=\"Open In Colab\"/></a>"
      ]
    },
    {
      "cell_type": "code",
      "execution_count": null,
      "metadata": {
        "id": "O6iuiMTqFWUt"
      },
      "outputs": [],
      "source": [
        "import pandas as pd\n",
        "import numpy as np\n",
        "import os"
      ]
    },
    {
      "cell_type": "code",
      "source": [
        "\n",
        "\n",
        "\n",
        "df = pd.read_csv(\"./vgsales.csv\")"
      ],
      "metadata": {
        "id": "9Cc53Fx4FYlI"
      },
      "execution_count": null,
      "outputs": []
    },
    {
      "cell_type": "code",
      "source": [
        "df.head()"
      ],
      "metadata": {
        "colab": {
          "base_uri": "https://localhost:8080/",
          "height": 206
        },
        "id": "1lVy-cCYFhSg",
        "outputId": "6209f5b3-e03f-4799-9ec4-c4644ab547bf"
      },
      "execution_count": null,
      "outputs": [
        {
          "output_type": "execute_result",
          "data": {
            "text/plain": [
              "   Rank                      Name Platform    Year         Genre Publisher  \\\n",
              "0     1                Wii Sports      Wii  2006.0        Sports  Nintendo   \n",
              "1     2         Super Mario Bros.      NES  1985.0      Platform  Nintendo   \n",
              "2     3            Mario Kart Wii      Wii  2008.0        Racing  Nintendo   \n",
              "3     4         Wii Sports Resort      Wii  2009.0        Sports  Nintendo   \n",
              "4     5  Pokemon Red/Pokemon Blue       GB  1996.0  Role-Playing  Nintendo   \n",
              "\n",
              "   NA_Sales  EU_Sales  JP_Sales  Other_Sales  Global_Sales  \n",
              "0     41.49     29.02      3.77         8.46         82.74  \n",
              "1     29.08      3.58      6.81         0.77         40.24  \n",
              "2     15.85     12.88      3.79         3.31         35.82  \n",
              "3     15.75     11.01      3.28         2.96         33.00  \n",
              "4     11.27      8.89     10.22         1.00         31.37  "
            ],
            "text/html": [
              "\n",
              "  <div id=\"df-275b501f-91a0-42bd-8821-3f13e80d51f3\" class=\"colab-df-container\">\n",
              "    <div>\n",
              "<style scoped>\n",
              "    .dataframe tbody tr th:only-of-type {\n",
              "        vertical-align: middle;\n",
              "    }\n",
              "\n",
              "    .dataframe tbody tr th {\n",
              "        vertical-align: top;\n",
              "    }\n",
              "\n",
              "    .dataframe thead th {\n",
              "        text-align: right;\n",
              "    }\n",
              "</style>\n",
              "<table border=\"1\" class=\"dataframe\">\n",
              "  <thead>\n",
              "    <tr style=\"text-align: right;\">\n",
              "      <th></th>\n",
              "      <th>Rank</th>\n",
              "      <th>Name</th>\n",
              "      <th>Platform</th>\n",
              "      <th>Year</th>\n",
              "      <th>Genre</th>\n",
              "      <th>Publisher</th>\n",
              "      <th>NA_Sales</th>\n",
              "      <th>EU_Sales</th>\n",
              "      <th>JP_Sales</th>\n",
              "      <th>Other_Sales</th>\n",
              "      <th>Global_Sales</th>\n",
              "    </tr>\n",
              "  </thead>\n",
              "  <tbody>\n",
              "    <tr>\n",
              "      <th>0</th>\n",
              "      <td>1</td>\n",
              "      <td>Wii Sports</td>\n",
              "      <td>Wii</td>\n",
              "      <td>2006.0</td>\n",
              "      <td>Sports</td>\n",
              "      <td>Nintendo</td>\n",
              "      <td>41.49</td>\n",
              "      <td>29.02</td>\n",
              "      <td>3.77</td>\n",
              "      <td>8.46</td>\n",
              "      <td>82.74</td>\n",
              "    </tr>\n",
              "    <tr>\n",
              "      <th>1</th>\n",
              "      <td>2</td>\n",
              "      <td>Super Mario Bros.</td>\n",
              "      <td>NES</td>\n",
              "      <td>1985.0</td>\n",
              "      <td>Platform</td>\n",
              "      <td>Nintendo</td>\n",
              "      <td>29.08</td>\n",
              "      <td>3.58</td>\n",
              "      <td>6.81</td>\n",
              "      <td>0.77</td>\n",
              "      <td>40.24</td>\n",
              "    </tr>\n",
              "    <tr>\n",
              "      <th>2</th>\n",
              "      <td>3</td>\n",
              "      <td>Mario Kart Wii</td>\n",
              "      <td>Wii</td>\n",
              "      <td>2008.0</td>\n",
              "      <td>Racing</td>\n",
              "      <td>Nintendo</td>\n",
              "      <td>15.85</td>\n",
              "      <td>12.88</td>\n",
              "      <td>3.79</td>\n",
              "      <td>3.31</td>\n",
              "      <td>35.82</td>\n",
              "    </tr>\n",
              "    <tr>\n",
              "      <th>3</th>\n",
              "      <td>4</td>\n",
              "      <td>Wii Sports Resort</td>\n",
              "      <td>Wii</td>\n",
              "      <td>2009.0</td>\n",
              "      <td>Sports</td>\n",
              "      <td>Nintendo</td>\n",
              "      <td>15.75</td>\n",
              "      <td>11.01</td>\n",
              "      <td>3.28</td>\n",
              "      <td>2.96</td>\n",
              "      <td>33.00</td>\n",
              "    </tr>\n",
              "    <tr>\n",
              "      <th>4</th>\n",
              "      <td>5</td>\n",
              "      <td>Pokemon Red/Pokemon Blue</td>\n",
              "      <td>GB</td>\n",
              "      <td>1996.0</td>\n",
              "      <td>Role-Playing</td>\n",
              "      <td>Nintendo</td>\n",
              "      <td>11.27</td>\n",
              "      <td>8.89</td>\n",
              "      <td>10.22</td>\n",
              "      <td>1.00</td>\n",
              "      <td>31.37</td>\n",
              "    </tr>\n",
              "  </tbody>\n",
              "</table>\n",
              "</div>\n",
              "    <div class=\"colab-df-buttons\">\n",
              "\n",
              "  <div class=\"colab-df-container\">\n",
              "    <button class=\"colab-df-convert\" onclick=\"convertToInteractive('df-275b501f-91a0-42bd-8821-3f13e80d51f3')\"\n",
              "            title=\"Convert this dataframe to an interactive table.\"\n",
              "            style=\"display:none;\">\n",
              "\n",
              "  <svg xmlns=\"http://www.w3.org/2000/svg\" height=\"24px\" viewBox=\"0 -960 960 960\">\n",
              "    <path d=\"M120-120v-720h720v720H120Zm60-500h600v-160H180v160Zm220 220h160v-160H400v160Zm0 220h160v-160H400v160ZM180-400h160v-160H180v160Zm440 0h160v-160H620v160ZM180-180h160v-160H180v160Zm440 0h160v-160H620v160Z\"/>\n",
              "  </svg>\n",
              "    </button>\n",
              "\n",
              "  <style>\n",
              "    .colab-df-container {\n",
              "      display:flex;\n",
              "      gap: 12px;\n",
              "    }\n",
              "\n",
              "    .colab-df-convert {\n",
              "      background-color: #E8F0FE;\n",
              "      border: none;\n",
              "      border-radius: 50%;\n",
              "      cursor: pointer;\n",
              "      display: none;\n",
              "      fill: #1967D2;\n",
              "      height: 32px;\n",
              "      padding: 0 0 0 0;\n",
              "      width: 32px;\n",
              "    }\n",
              "\n",
              "    .colab-df-convert:hover {\n",
              "      background-color: #E2EBFA;\n",
              "      box-shadow: 0px 1px 2px rgba(60, 64, 67, 0.3), 0px 1px 3px 1px rgba(60, 64, 67, 0.15);\n",
              "      fill: #174EA6;\n",
              "    }\n",
              "\n",
              "    .colab-df-buttons div {\n",
              "      margin-bottom: 4px;\n",
              "    }\n",
              "\n",
              "    [theme=dark] .colab-df-convert {\n",
              "      background-color: #3B4455;\n",
              "      fill: #D2E3FC;\n",
              "    }\n",
              "\n",
              "    [theme=dark] .colab-df-convert:hover {\n",
              "      background-color: #434B5C;\n",
              "      box-shadow: 0px 1px 3px 1px rgba(0, 0, 0, 0.15);\n",
              "      filter: drop-shadow(0px 1px 2px rgba(0, 0, 0, 0.3));\n",
              "      fill: #FFFFFF;\n",
              "    }\n",
              "  </style>\n",
              "\n",
              "    <script>\n",
              "      const buttonEl =\n",
              "        document.querySelector('#df-275b501f-91a0-42bd-8821-3f13e80d51f3 button.colab-df-convert');\n",
              "      buttonEl.style.display =\n",
              "        google.colab.kernel.accessAllowed ? 'block' : 'none';\n",
              "\n",
              "      async function convertToInteractive(key) {\n",
              "        const element = document.querySelector('#df-275b501f-91a0-42bd-8821-3f13e80d51f3');\n",
              "        const dataTable =\n",
              "          await google.colab.kernel.invokeFunction('convertToInteractive',\n",
              "                                                    [key], {});\n",
              "        if (!dataTable) return;\n",
              "\n",
              "        const docLinkHtml = 'Like what you see? Visit the ' +\n",
              "          '<a target=\"_blank\" href=https://colab.research.google.com/notebooks/data_table.ipynb>data table notebook</a>'\n",
              "          + ' to learn more about interactive tables.';\n",
              "        element.innerHTML = '';\n",
              "        dataTable['output_type'] = 'display_data';\n",
              "        await google.colab.output.renderOutput(dataTable, element);\n",
              "        const docLink = document.createElement('div');\n",
              "        docLink.innerHTML = docLinkHtml;\n",
              "        element.appendChild(docLink);\n",
              "      }\n",
              "    </script>\n",
              "  </div>\n",
              "\n",
              "\n",
              "<div id=\"df-180b0679-42d4-4388-8d45-6fc94e926a3c\">\n",
              "  <button class=\"colab-df-quickchart\" onclick=\"quickchart('df-180b0679-42d4-4388-8d45-6fc94e926a3c')\"\n",
              "            title=\"Suggest charts\"\n",
              "            style=\"display:none;\">\n",
              "\n",
              "<svg xmlns=\"http://www.w3.org/2000/svg\" height=\"24px\"viewBox=\"0 0 24 24\"\n",
              "     width=\"24px\">\n",
              "    <g>\n",
              "        <path d=\"M19 3H5c-1.1 0-2 .9-2 2v14c0 1.1.9 2 2 2h14c1.1 0 2-.9 2-2V5c0-1.1-.9-2-2-2zM9 17H7v-7h2v7zm4 0h-2V7h2v10zm4 0h-2v-4h2v4z\"/>\n",
              "    </g>\n",
              "</svg>\n",
              "  </button>\n",
              "\n",
              "<style>\n",
              "  .colab-df-quickchart {\n",
              "      --bg-color: #E8F0FE;\n",
              "      --fill-color: #1967D2;\n",
              "      --hover-bg-color: #E2EBFA;\n",
              "      --hover-fill-color: #174EA6;\n",
              "      --disabled-fill-color: #AAA;\n",
              "      --disabled-bg-color: #DDD;\n",
              "  }\n",
              "\n",
              "  [theme=dark] .colab-df-quickchart {\n",
              "      --bg-color: #3B4455;\n",
              "      --fill-color: #D2E3FC;\n",
              "      --hover-bg-color: #434B5C;\n",
              "      --hover-fill-color: #FFFFFF;\n",
              "      --disabled-bg-color: #3B4455;\n",
              "      --disabled-fill-color: #666;\n",
              "  }\n",
              "\n",
              "  .colab-df-quickchart {\n",
              "    background-color: var(--bg-color);\n",
              "    border: none;\n",
              "    border-radius: 50%;\n",
              "    cursor: pointer;\n",
              "    display: none;\n",
              "    fill: var(--fill-color);\n",
              "    height: 32px;\n",
              "    padding: 0;\n",
              "    width: 32px;\n",
              "  }\n",
              "\n",
              "  .colab-df-quickchart:hover {\n",
              "    background-color: var(--hover-bg-color);\n",
              "    box-shadow: 0 1px 2px rgba(60, 64, 67, 0.3), 0 1px 3px 1px rgba(60, 64, 67, 0.15);\n",
              "    fill: var(--button-hover-fill-color);\n",
              "  }\n",
              "\n",
              "  .colab-df-quickchart-complete:disabled,\n",
              "  .colab-df-quickchart-complete:disabled:hover {\n",
              "    background-color: var(--disabled-bg-color);\n",
              "    fill: var(--disabled-fill-color);\n",
              "    box-shadow: none;\n",
              "  }\n",
              "\n",
              "  .colab-df-spinner {\n",
              "    border: 2px solid var(--fill-color);\n",
              "    border-color: transparent;\n",
              "    border-bottom-color: var(--fill-color);\n",
              "    animation:\n",
              "      spin 1s steps(1) infinite;\n",
              "  }\n",
              "\n",
              "  @keyframes spin {\n",
              "    0% {\n",
              "      border-color: transparent;\n",
              "      border-bottom-color: var(--fill-color);\n",
              "      border-left-color: var(--fill-color);\n",
              "    }\n",
              "    20% {\n",
              "      border-color: transparent;\n",
              "      border-left-color: var(--fill-color);\n",
              "      border-top-color: var(--fill-color);\n",
              "    }\n",
              "    30% {\n",
              "      border-color: transparent;\n",
              "      border-left-color: var(--fill-color);\n",
              "      border-top-color: var(--fill-color);\n",
              "      border-right-color: var(--fill-color);\n",
              "    }\n",
              "    40% {\n",
              "      border-color: transparent;\n",
              "      border-right-color: var(--fill-color);\n",
              "      border-top-color: var(--fill-color);\n",
              "    }\n",
              "    60% {\n",
              "      border-color: transparent;\n",
              "      border-right-color: var(--fill-color);\n",
              "    }\n",
              "    80% {\n",
              "      border-color: transparent;\n",
              "      border-right-color: var(--fill-color);\n",
              "      border-bottom-color: var(--fill-color);\n",
              "    }\n",
              "    90% {\n",
              "      border-color: transparent;\n",
              "      border-bottom-color: var(--fill-color);\n",
              "    }\n",
              "  }\n",
              "</style>\n",
              "\n",
              "  <script>\n",
              "    async function quickchart(key) {\n",
              "      const quickchartButtonEl =\n",
              "        document.querySelector('#' + key + ' button');\n",
              "      quickchartButtonEl.disabled = true;  // To prevent multiple clicks.\n",
              "      quickchartButtonEl.classList.add('colab-df-spinner');\n",
              "      try {\n",
              "        const charts = await google.colab.kernel.invokeFunction(\n",
              "            'suggestCharts', [key], {});\n",
              "      } catch (error) {\n",
              "        console.error('Error during call to suggestCharts:', error);\n",
              "      }\n",
              "      quickchartButtonEl.classList.remove('colab-df-spinner');\n",
              "      quickchartButtonEl.classList.add('colab-df-quickchart-complete');\n",
              "    }\n",
              "    (() => {\n",
              "      let quickchartButtonEl =\n",
              "        document.querySelector('#df-180b0679-42d4-4388-8d45-6fc94e926a3c button');\n",
              "      quickchartButtonEl.style.display =\n",
              "        google.colab.kernel.accessAllowed ? 'block' : 'none';\n",
              "    })();\n",
              "  </script>\n",
              "</div>\n",
              "    </div>\n",
              "  </div>\n"
            ],
            "application/vnd.google.colaboratory.intrinsic+json": {
              "type": "dataframe",
              "variable_name": "df",
              "summary": "{\n  \"name\": \"df\",\n  \"rows\": 16598,\n  \"fields\": [\n    {\n      \"column\": \"Rank\",\n      \"properties\": {\n        \"dtype\": \"number\",\n        \"std\": 4791,\n        \"min\": 1,\n        \"max\": 16600,\n        \"num_unique_values\": 16598,\n        \"samples\": [\n          8930,\n          4791,\n          15495\n        ],\n        \"semantic_type\": \"\",\n        \"description\": \"\"\n      }\n    },\n    {\n      \"column\": \"Name\",\n      \"properties\": {\n        \"dtype\": \"string\",\n        \"num_unique_values\": 11493,\n        \"samples\": [\n          \"Close Combat: First to Fight\",\n          \"Rock 'N Roll Racing\",\n          \"Hakuouki\"\n        ],\n        \"semantic_type\": \"\",\n        \"description\": \"\"\n      }\n    },\n    {\n      \"column\": \"Platform\",\n      \"properties\": {\n        \"dtype\": \"category\",\n        \"num_unique_values\": 31,\n        \"samples\": [\n          \"TG16\",\n          \"2600\",\n          \"SAT\"\n        ],\n        \"semantic_type\": \"\",\n        \"description\": \"\"\n      }\n    },\n    {\n      \"column\": \"Year\",\n      \"properties\": {\n        \"dtype\": \"number\",\n        \"std\": 5.828981114712805,\n        \"min\": 1980.0,\n        \"max\": 2020.0,\n        \"num_unique_values\": 39,\n        \"samples\": [\n          1981.0,\n          1983.0,\n          1996.0\n        ],\n        \"semantic_type\": \"\",\n        \"description\": \"\"\n      }\n    },\n    {\n      \"column\": \"Genre\",\n      \"properties\": {\n        \"dtype\": \"category\",\n        \"num_unique_values\": 12,\n        \"samples\": [\n          \"Adventure\",\n          \"Fighting\",\n          \"Sports\"\n        ],\n        \"semantic_type\": \"\",\n        \"description\": \"\"\n      }\n    },\n    {\n      \"column\": \"Publisher\",\n      \"properties\": {\n        \"dtype\": \"category\",\n        \"num_unique_values\": 578,\n        \"samples\": [\n          \"JoWood Productions\",\n          \"Takuyo\",\n          \"Kamui\"\n        ],\n        \"semantic_type\": \"\",\n        \"description\": \"\"\n      }\n    },\n    {\n      \"column\": \"NA_Sales\",\n      \"properties\": {\n        \"dtype\": \"number\",\n        \"std\": 0.8166830292988796,\n        \"min\": 0.0,\n        \"max\": 41.49,\n        \"num_unique_values\": 409,\n        \"samples\": [\n          1.7,\n          2.97,\n          3.92\n        ],\n        \"semantic_type\": \"\",\n        \"description\": \"\"\n      }\n    },\n    {\n      \"column\": \"EU_Sales\",\n      \"properties\": {\n        \"dtype\": \"number\",\n        \"std\": 0.5053512312869116,\n        \"min\": 0.0,\n        \"max\": 29.02,\n        \"num_unique_values\": 305,\n        \"samples\": [\n          1.15,\n          0.98,\n          2.25\n        ],\n        \"semantic_type\": \"\",\n        \"description\": \"\"\n      }\n    },\n    {\n      \"column\": \"JP_Sales\",\n      \"properties\": {\n        \"dtype\": \"number\",\n        \"std\": 0.30929064808220297,\n        \"min\": 0.0,\n        \"max\": 10.22,\n        \"num_unique_values\": 244,\n        \"samples\": [\n          0.47,\n          6.5,\n          2.1\n        ],\n        \"semantic_type\": \"\",\n        \"description\": \"\"\n      }\n    },\n    {\n      \"column\": \"Other_Sales\",\n      \"properties\": {\n        \"dtype\": \"number\",\n        \"std\": 0.18858840291271461,\n        \"min\": 0.0,\n        \"max\": 10.57,\n        \"num_unique_values\": 157,\n        \"samples\": [\n          0.38,\n          0.23,\n          0.48\n        ],\n        \"semantic_type\": \"\",\n        \"description\": \"\"\n      }\n    },\n    {\n      \"column\": \"Global_Sales\",\n      \"properties\": {\n        \"dtype\": \"number\",\n        \"std\": 1.5550279355699124,\n        \"min\": 0.01,\n        \"max\": 82.74,\n        \"num_unique_values\": 623,\n        \"samples\": [\n          3.91,\n          0.65,\n          5.11\n        ],\n        \"semantic_type\": \"\",\n        \"description\": \"\"\n      }\n    }\n  ]\n}"
            }
          },
          "metadata": {},
          "execution_count": 36
        }
      ]
    },
    {
      "cell_type": "markdown",
      "source": [
        "**Type inference:**"
      ],
      "metadata": {
        "id": "ZLTzY98tINLu"
      }
    },
    {
      "cell_type": "code",
      "source": [
        "colum_dtype=df.dtypes"
      ],
      "metadata": {
        "id": "D2mncWEGHLTs"
      },
      "execution_count": null,
      "outputs": []
    },
    {
      "cell_type": "code",
      "source": [
        "\n",
        "colum_dtype"
      ],
      "metadata": {
        "colab": {
          "base_uri": "https://localhost:8080/"
        },
        "id": "hF-DXW_YHukg",
        "outputId": "450a49c3-2d71-499a-a52a-c61899dc37cd"
      },
      "execution_count": null,
      "outputs": [
        {
          "output_type": "execute_result",
          "data": {
            "text/plain": [
              "Rank              int64\n",
              "Name             object\n",
              "Platform         object\n",
              "Year            float64\n",
              "Genre            object\n",
              "Publisher        object\n",
              "NA_Sales        float64\n",
              "EU_Sales        float64\n",
              "JP_Sales        float64\n",
              "Other_Sales     float64\n",
              "Global_Sales    float64\n",
              "dtype: object"
            ]
          },
          "metadata": {},
          "execution_count": 38
        }
      ]
    },
    {
      "cell_type": "code",
      "source": [
        "numerical_col= df.select_dtypes(include=[\"int\",\"float\"]).columns\n",
        "numerical_col"
      ],
      "metadata": {
        "colab": {
          "base_uri": "https://localhost:8080/"
        },
        "id": "CNs2C2pxHwaL",
        "outputId": "cec92d06-f832-45ab-f5c1-ab99eb3aecd4"
      },
      "execution_count": null,
      "outputs": [
        {
          "output_type": "execute_result",
          "data": {
            "text/plain": [
              "Index(['Rank', 'Year', 'NA_Sales', 'EU_Sales', 'JP_Sales', 'Other_Sales',\n",
              "       'Global_Sales'],\n",
              "      dtype='object')"
            ]
          },
          "metadata": {},
          "execution_count": 39
        }
      ]
    },
    {
      "cell_type": "code",
      "source": [
        "catagorical_col=df.select_dtypes(include=[\"object\"]).columns\n",
        "catagorical_col"
      ],
      "metadata": {
        "colab": {
          "base_uri": "https://localhost:8080/"
        },
        "id": "nm9ZEfWsIy2P",
        "outputId": "9f898aae-42b9-4056-ca5f-dcfc8309e7cf"
      },
      "execution_count": null,
      "outputs": [
        {
          "output_type": "execute_result",
          "data": {
            "text/plain": [
              "Index(['Name', 'Platform', 'Genre', 'Publisher'], dtype='object')"
            ]
          },
          "metadata": {},
          "execution_count": 40
        }
      ]
    },
    {
      "cell_type": "markdown",
      "source": [
        "**Essentials:**"
      ],
      "metadata": {
        "id": "uuJI93xqJlA1"
      }
    },
    {
      "cell_type": "code",
      "source": [
        "data_types = df.dtypes"
      ],
      "metadata": {
        "id": "K0-j5y0QJDxe"
      },
      "execution_count": null,
      "outputs": []
    },
    {
      "cell_type": "code",
      "source": [
        "data_types"
      ],
      "metadata": {
        "colab": {
          "base_uri": "https://localhost:8080/"
        },
        "id": "otQSPmQ7KCcH",
        "outputId": "9de7d3b7-9c4c-46da-edb4-862faf125ece"
      },
      "execution_count": null,
      "outputs": [
        {
          "output_type": "execute_result",
          "data": {
            "text/plain": [
              "Rank              int64\n",
              "Name             object\n",
              "Platform         object\n",
              "Year            float64\n",
              "Genre            object\n",
              "Publisher        object\n",
              "NA_Sales        float64\n",
              "EU_Sales        float64\n",
              "JP_Sales        float64\n",
              "Other_Sales     float64\n",
              "Global_Sales    float64\n",
              "dtype: object"
            ]
          },
          "metadata": {},
          "execution_count": 42
        }
      ]
    },
    {
      "cell_type": "code",
      "source": [
        "unique_values={}\n",
        "for col in df.columns:\n",
        "  unique_values[col]=df[col].unique()\n",
        "unique_values"
      ],
      "metadata": {
        "colab": {
          "base_uri": "https://localhost:8080/"
        },
        "id": "sKzL60vHKEEz",
        "outputId": "76ca10fe-048c-47de-ae8d-05b420656d58"
      },
      "execution_count": null,
      "outputs": [
        {
          "output_type": "execute_result",
          "data": {
            "text/plain": [
              "{'Rank': array([    1,     2,     3, ..., 16598, 16599, 16600]),\n",
              " 'Name': array(['Wii Sports', 'Super Mario Bros.', 'Mario Kart Wii', ...,\n",
              "        'Plushees', 'Woody Woodpecker in Crazy Castle 5', 'Know How 2'],\n",
              "       dtype=object),\n",
              " 'Platform': array(['Wii', 'NES', 'GB', 'DS', 'X360', 'PS3', 'PS2', 'SNES', 'GBA',\n",
              "        '3DS', 'PS4', 'N64', 'PS', 'XB', 'PC', '2600', 'PSP', 'XOne', 'GC',\n",
              "        'WiiU', 'GEN', 'DC', 'PSV', 'SAT', 'SCD', 'WS', 'NG', 'TG16',\n",
              "        '3DO', 'GG', 'PCFX'], dtype=object),\n",
              " 'Year': array([2006., 1985., 2008., 2009., 1996., 1989., 1984., 2005., 1999.,\n",
              "        2007., 2010., 2013., 2004., 1990., 1988., 2002., 2001., 2011.,\n",
              "        1998., 2015., 2012., 2014., 1992., 1997., 1993., 1994., 1982.,\n",
              "        2003., 1986., 2000.,   nan, 1995., 2016., 1991., 1981., 1987.,\n",
              "        1980., 1983., 2020., 2017.]),\n",
              " 'Genre': array(['Sports', 'Platform', 'Racing', 'Role-Playing', 'Puzzle', 'Misc',\n",
              "        'Shooter', 'Simulation', 'Action', 'Fighting', 'Adventure',\n",
              "        'Strategy'], dtype=object),\n",
              " 'Publisher': array(['Nintendo', 'Microsoft Game Studios', 'Take-Two Interactive',\n",
              "        'Sony Computer Entertainment', 'Activision', 'Ubisoft',\n",
              "        'Bethesda Softworks', 'Electronic Arts', 'Sega', 'SquareSoft',\n",
              "        'Atari', '505 Games', 'Capcom', 'GT Interactive',\n",
              "        'Konami Digital Entertainment',\n",
              "        'Sony Computer Entertainment Europe', 'Square Enix', 'LucasArts',\n",
              "        'Virgin Interactive', 'Warner Bros. Interactive Entertainment',\n",
              "        'Universal Interactive', 'Eidos Interactive', 'RedOctane',\n",
              "        'Vivendi Games', 'Enix Corporation', 'Namco Bandai Games',\n",
              "        'Palcom', 'Hasbro Interactive', 'THQ', 'Fox Interactive',\n",
              "        'Acclaim Entertainment', 'MTV Games', 'Disney Interactive Studios',\n",
              "        nan, 'Majesco Entertainment', 'Codemasters', 'Red Orb', 'Level 5',\n",
              "        'Arena Entertainment', 'Midway Games', 'JVC', 'Deep Silver',\n",
              "        '989 Studios', 'NCSoft', 'UEP Systems', 'Parker Bros.', 'Maxis',\n",
              "        'Imagic', 'Tecmo Koei', 'Valve Software', 'ASCII Entertainment',\n",
              "        'Mindscape', 'Infogrames', 'Unknown', 'Square', 'Valve',\n",
              "        'Activision Value', 'Banpresto', 'D3Publisher',\n",
              "        'Oxygen Interactive', 'Red Storm Entertainment', 'Video System',\n",
              "        'Hello Games', 'Global Star', 'Gotham Games', 'Westwood Studios',\n",
              "        'GungHo', 'Crave Entertainment', 'Hudson Soft', 'Coleco',\n",
              "        'Rising Star Games', 'Atlus', 'TDK Mediactive', 'ASC Games',\n",
              "        'Zoo Games', 'Accolade', 'Sony Online Entertainment', '3DO', 'RTL',\n",
              "        'Natsume', 'Focus Home Interactive', 'Alchemist',\n",
              "        'Black Label Games', 'SouthPeak Games', 'Mastertronic', 'Ocean',\n",
              "        'Zoo Digital Publishing', 'Psygnosis', 'City Interactive',\n",
              "        'Empire Interactive', 'Success', 'Compile', 'Russel', 'Taito',\n",
              "        'Agetec', 'GSP', 'Microprose', 'Play It', 'Slightly Mad Studios',\n",
              "        'Tomy Corporation', 'Sammy Corporation', 'Koch Media',\n",
              "        'Game Factory', 'Titus', 'Marvelous Entertainment', 'Genki',\n",
              "        'Mojang', 'Pinnacle', 'CTO SpA', 'TalonSoft', 'Crystal Dynamics',\n",
              "        'SCi', 'Quelle', 'mixi, Inc', 'Rage Software', 'Ubisoft Annecy',\n",
              "        'Scholastic Inc.', 'Interplay', 'Mystique', 'ChunSoft',\n",
              "        'Square EA', '20th Century Fox Video Games', 'Avanquest Software',\n",
              "        'Hudson Entertainment', 'Nordic Games', 'Men-A-Vision', 'Nobilis',\n",
              "        'Big Ben Interactive', 'Touchstone', 'Spike', 'Jester Interactive',\n",
              "        'Nippon Ichi Software', 'LEGO Media', 'Quest',\n",
              "        'Illusion Softworks', 'Tigervision', 'Funbox Media',\n",
              "        'Rocket Company', 'Metro 3D', 'Mattel Interactive', 'IE Institute',\n",
              "        'Rondomedia', 'Sony Computer Entertainment America',\n",
              "        'Universal Gamex', 'Ghostlight', 'Wizard Video Games',\n",
              "        'BMG Interactive Entertainment', 'PQube', 'Trion Worlds', 'Laguna',\n",
              "        'Ignition Entertainment', 'Takara', 'Kadokawa Shoten', 'Destineer',\n",
              "        'Enterbrain', 'Xseed Games', 'Imagineer',\n",
              "        'System 3 Arcade Software', 'CPG Products', 'Aruze Corp',\n",
              "        'Gamebridge', 'Midas Interactive Entertainment', 'Jaleco',\n",
              "        'Answer Software', 'XS Games', 'Activision Blizzard',\n",
              "        'Pack In Soft', 'Rebellion', 'Xplosiv', 'Ultravision',\n",
              "        'GameMill Entertainment', 'Wanadoo', 'NovaLogic', 'Telltale Games',\n",
              "        'Epoch', 'BAM! Entertainment', 'Knowledge Adventure', 'Mastiff',\n",
              "        'Tetris Online', 'Harmonix Music Systems', 'ESP', 'TYO',\n",
              "        'Telegames', 'Mud Duck Productions', 'Screenlife', 'Pioneer LDC',\n",
              "        'Magical Company', 'Mentor Interactive', 'Kemco',\n",
              "        'Human Entertainment', 'Avanquest', 'Data Age',\n",
              "        'Electronic Arts Victor', 'Black Bean Games', 'Jack of All Games',\n",
              "        '989 Sports', 'Takara Tomy', 'Media Rings', 'Elf', 'Kalypso Media',\n",
              "        'Starfish', 'Zushi Games', 'Jorudan', 'Destination Software, Inc',\n",
              "        'New', 'Brash Entertainment', 'ITT Family Games', 'PopCap Games',\n",
              "        'Home Entertainment Suppliers', 'Ackkstudios', 'Starpath Corp.',\n",
              "        'P2 Games', 'BPS', 'Gathering of Developers', 'NewKidCo',\n",
              "        'Storm City Games', 'CokeM Interactive', 'CBS Electronics',\n",
              "        'Magix', 'Marvelous Interactive', 'Nihon Falcom Corporation',\n",
              "        'Wargaming.net', 'Angel Studios', 'Arc System Works', 'Playmates',\n",
              "        'SNK Playmore', 'Hamster Corporation', 'From Software',\n",
              "        'Nippon Columbia', 'Nichibutsu', 'Little Orbit',\n",
              "        'Conspiracy Entertainment', 'DTP Entertainment', 'Hect',\n",
              "        'Mumbo Jumbo', 'Pacific Century Cyber Works', 'Indie Games',\n",
              "        'Liquid Games', 'NEC', 'Axela', 'ArtDink', 'Sunsoft', 'Gust',\n",
              "        'SNK', 'NEC Interchannel', 'FuRyu', 'Xing Entertainment',\n",
              "        'ValuSoft', 'Victor Interactive', 'Detn8 Games',\n",
              "        'American Softworks', 'Nordcurrent', 'Bomb', 'Falcom Corporation',\n",
              "        'AQ Interactive', 'CCP', 'Milestone S.r.l.', 'Sears',\n",
              "        'JoWood Productions', 'Seta Corporation', 'On Demand', 'NCS',\n",
              "        'Aspyr', 'Gremlin Interactive Ltd', 'Agatsuma Entertainment',\n",
              "        'Compile Heart', 'Culture Brain', 'Mad Catz', 'Shogakukan',\n",
              "        'Merscom LLC', 'Rebellion Developments', 'Nippon Telenet',\n",
              "        'TDK Core', 'bitComposer Games', 'Foreign Media Games', 'Astragon',\n",
              "        'SSI', 'Kadokawa Games', 'Idea Factory',\n",
              "        'Performance Designed Products', 'Asylum Entertainment',\n",
              "        'Core Design Ltd.', 'PlayV', 'UFO Interactive',\n",
              "        'Idea Factory International', 'Playlogic Game Factory',\n",
              "        'Essential Games', 'Adeline Software', 'Funcom',\n",
              "        'Panther Software', 'Blast! Entertainment Ltd', 'Game Life',\n",
              "        'DSI Games', 'Avalon Interactive', 'Popcorn Arcade',\n",
              "        'Neko Entertainment', 'Vir2L Studios', 'Aques', 'Syscom',\n",
              "        'White Park Bay Software', 'System 3', 'Vatical Entertainment',\n",
              "        'Daedalic', 'EA Games', 'Media Factory', 'Vic Tokai',\n",
              "        'The Adventure Company', 'Game Arts', 'Broccoli', 'Acquire',\n",
              "        'General Entertainment', 'Excalibur Publishing', 'Imadio',\n",
              "        'Swing! Entertainment', 'Sony Music Entertainment', 'Aqua Plus',\n",
              "        'Paradox Interactive', 'Hip Interactive',\n",
              "        'DreamCatcher Interactive', 'Tripwire Interactive', 'Sting',\n",
              "        'Yacht Club Games', 'SCS Software', 'Bigben Interactive',\n",
              "        'Havas Interactive', 'Slitherine Software', 'Graffiti', 'Funsta',\n",
              "        'Telstar', 'U.S. Gold', 'DreamWorks Interactive',\n",
              "        'Data Design Interactive', 'MTO', 'DHM Interactive', 'FunSoft',\n",
              "        'SPS', 'Bohemia Interactive', 'Reef Entertainment',\n",
              "        'Tru Blu Entertainment', 'Moss', 'T&E Soft', 'O-Games',\n",
              "        'Aksys Games', 'NDA Productions', 'Data East',\n",
              "        'Time Warner Interactive', 'Gainax Network Systems', 'Daito',\n",
              "        'O3 Entertainment', 'Gameloft', 'Xicat Interactive',\n",
              "        'Simon & Schuster Interactive', 'Valcon Games', 'PopTop Software',\n",
              "        'TOHO', 'HMH Interactive', '5pb', 'Cave',\n",
              "        'CDV Software Entertainment', 'Microids', 'PM Studios', 'Paon',\n",
              "        'Micro Cabin', 'GameTek', 'Benesse', 'Type-Moon',\n",
              "        'Enjoy Gaming ltd.', 'Asmik Corp', 'Interplay Productions',\n",
              "        'Asmik Ace Entertainment', 'inXile Entertainment', 'Image Epoch',\n",
              "        'Phantom EFX', 'Evolved Games', 'responDESIGN',\n",
              "        'Culture Publishers', 'Griffin International', 'Hackberry',\n",
              "        'Hearty Robin', 'Nippon Amuse', 'Origin Systems', 'Seventh Chord',\n",
              "        'Mitsui', 'Milestone', 'Abylight', 'Flight-Plan', 'Glams', 'Locus',\n",
              "        'Warp', 'Daedalic Entertainment', 'Alternative Software',\n",
              "        'Myelin Media', 'Mercury Games', 'Irem Software Engineering',\n",
              "        'Sunrise Interactive', 'Elite', 'Evolution Games', 'Tivola',\n",
              "        'Global A Entertainment', 'Edia', 'Athena', 'Aria', 'Gamecock',\n",
              "        'Tommo', 'Altron', 'Happinet', 'iWin', 'Media Works', 'Fortyfive',\n",
              "        'Revolution Software', 'Imax', 'Crimson Cow', '10TACLE Studios',\n",
              "        'Groove Games', 'Pack-In-Video', 'Insomniac Games',\n",
              "        'Ascaron Entertainment GmbH', 'Asgard', 'Ecole', 'Yumedia',\n",
              "        'Phenomedia', 'HAL Laboratory', 'Grand Prix Games', 'DigiCube',\n",
              "        'Creative Core', 'Kaga Create', 'WayForward Technologies',\n",
              "        'LSP Games', 'ASCII Media Works', 'Coconuts Japan', 'Arika',\n",
              "        'Ertain', 'Marvel Entertainment', 'Prototype',\n",
              "        'TopWare Interactive', 'Phantagram', '1C Company',\n",
              "        'The Learning Company', 'TechnoSoft', 'Vap', 'Misawa', 'Tradewest',\n",
              "        'Team17 Software', 'Yeti', 'Pow', 'Navarre Corp', 'MediaQuest',\n",
              "        'Max Five', 'Comfort', 'Monte Christo Multimedia', 'Pony Canyon',\n",
              "        'Riverhillsoft', 'Summitsoft', 'Milestone S.r.l', 'Playmore',\n",
              "        'MLB.com', 'Kool Kizz', 'Flashpoint Games', '49Games',\n",
              "        'Legacy Interactive', 'Alawar Entertainment', 'CyberFront',\n",
              "        'Cloud Imperium Games Corporation', 'Societa',\n",
              "        'Virtual Play Games', 'Interchannel', 'Sonnet', 'Experience Inc.',\n",
              "        'Zenrin', 'Iceberg Interactive', 'Ivolgamus', '2D Boy',\n",
              "        'MC2 Entertainment', 'Kando Games', 'Just Flight', 'Office Create',\n",
              "        'Mamba Games', 'Fields', 'Princess Soft', 'Maximum Family Games',\n",
              "        'Berkeley', 'Fuji', 'Dusenberry Martin Racing', 'imageepoch Inc.',\n",
              "        'Big Fish Games', 'Her Interactive', 'Kamui', 'ASK',\n",
              "        'Headup Games', 'KSS', 'Cygames', 'KID', 'Quinrose', 'Sunflowers',\n",
              "        'dramatic create', 'TGL', 'Encore', 'Extreme Entertainment Group',\n",
              "        'Intergrow', 'G.Rev', 'Sweets', 'Kokopeli Digital Studios',\n",
              "        'Number None', 'Nexon', 'id Software', 'BushiRoad', 'Tryfirst',\n",
              "        'Strategy First', '7G//AMES', 'GN Software', \"Yuke's\",\n",
              "        'Easy Interactive', 'Licensed 4U', 'FuRyu Corporation',\n",
              "        'Lexicon Entertainment', 'Paon Corporation', 'Kids Station', 'GOA',\n",
              "        'Graphsim Entertainment', 'King Records', 'Introversion Software',\n",
              "        'Minato Station', 'Devolver Digital', 'Blue Byte', 'Gaga',\n",
              "        'Yamasa Entertainment', 'Plenty', 'Views', 'fonfun', 'NetRevo',\n",
              "        'Codemasters Online', 'Quintet', 'Phoenix Games', 'Dorart',\n",
              "        'Marvelous Games', 'Focus Multimedia', 'Imageworks',\n",
              "        'Karin Entertainment', 'Aerosoft', 'Technos Japan Corporation',\n",
              "        'Gakken', 'Mirai Shounen', 'Datam Polystar', 'Saurus', 'HuneX',\n",
              "        'Revolution (Japan)', 'Giza10', 'Visco', 'Alvion', 'Mycom', 'Giga',\n",
              "        'Warashi', 'System Soft', 'Sold Out', 'Lighthouse Interactive',\n",
              "        'Masque Publishing', 'RED Entertainment', 'Michaelsoft',\n",
              "        'Media Entertainment', 'New World Computing', 'Genterprise',\n",
              "        'Interworks Unlimited, Inc.', 'Boost On', 'Stainless Games',\n",
              "        'EON Digital Entertainment', 'Epic Games', 'Naxat Soft',\n",
              "        'Ascaron Entertainment', 'Piacci', 'Nitroplus',\n",
              "        'Paradox Development', 'Otomate', 'Ongakukan', 'Commseed',\n",
              "        'Inti Creates', 'Takuyo', 'Interchannel-Holon', 'Rain Games',\n",
              "        'UIG Entertainment'], dtype=object),\n",
              " 'NA_Sales': array([4.149e+01, 2.908e+01, 1.585e+01, 1.575e+01, 1.127e+01, 2.320e+01,\n",
              "        1.138e+01, 1.403e+01, 1.459e+01, 2.693e+01, 9.070e+00, 9.810e+00,\n",
              "        9.000e+00, 8.940e+00, 9.090e+00, 1.497e+01, 7.010e+00, 9.430e+00,\n",
              "        1.278e+01, 4.750e+00, 6.420e+00, 1.083e+01, 9.540e+00, 9.630e+00,\n",
              "        8.410e+00, 6.060e+00, 5.570e+00, 3.440e+00, 6.850e+00, 9.030e+00,\n",
              "        5.890e+00, 9.670e+00, 5.170e+00, 5.770e+00, 4.990e+00, 8.250e+00,\n",
              "        8.520e+00, 5.540e+00, 6.990e+00, 6.750e+00, 5.980e+00, 2.550e+00,\n",
              "        4.740e+00, 7.970e+00, 3.800e+00, 4.400e+00, 6.910e+00, 3.010e+00,\n",
              "        6.160e+00, 4.230e+00, 6.760e+00, 4.020e+00, 4.890e+00, 2.960e+00,\n",
              "        4.760e+00, 5.990e+00, 4.340e+00, 5.080e+00, 6.050e+00, 6.720e+00,\n",
              "        7.030e+00, 5.550e+00, 3.660e+00, 6.630e+00, 4.090e+00, 5.840e+00,\n",
              "        3.880e+00, 5.910e+00, 4.360e+00, 5.580e+00, 2.010e+00, 4.460e+00,\n",
              "        5.030e+00, 3.540e+00, 1.110e+00, 1.790e+00, 6.820e+00, 3.810e+00,\n",
              "        2.910e+00, 1.060e+00, 9.800e-01, 5.800e+00, 2.580e+00, 2.280e+00,\n",
              "        2.820e+00, 7.280e+00, 2.900e+00, 2.930e+00, 2.800e+00, 4.100e+00,\n",
              "        3.780e+00, 5.390e+00, 3.240e+00, 4.790e+00, 3.830e+00, 4.520e+00,\n",
              "        3.510e+00, 2.850e+00, 3.270e+00, 3.680e+00, 4.410e+00, 3.130e+00,\n",
              "        2.470e+00, 4.120e+00, 4.140e+00, 7.800e-01, 2.710e+00, 2.770e+00,\n",
              "        3.230e+00, 3.500e+00, 4.150e+00, 3.100e+00, 8.400e-01, 1.670e+00,\n",
              "        2.790e+00, 7.900e-01, 3.250e+00, 3.740e+00, 2.640e+00, 4.980e+00,\n",
              "        2.570e+00, 3.640e+00, 3.700e+00, 4.010e+00, 7.000e-02, 3.110e+00,\n",
              "        3.920e+00, 4.050e+00, 2.450e+00, 4.470e+00, 2.630e+00, 3.180e+00,\n",
              "        2.410e+00, 1.880e+00, 6.600e-01, 2.260e+00, 2.490e+00, 2.970e+00,\n",
              "        2.540e+00, 2.950e+00, 3.280e+00, 2.700e+00, 2.990e+00, 4.700e-01,\n",
              "        3.140e+00, 2.620e+00, 3.210e+00, 2.720e+00, 2.070e+00, 1.970e+00,\n",
              "        1.740e+00, 2.180e+00, 3.020e+00, 1.620e+00, 1.920e+00, 3.330e+00,\n",
              "        1.220e+00, 2.300e+00, 4.260e+00, 6.500e-01, 2.430e+00, 2.320e+00,\n",
              "        1.080e+00, 1.900e+00, 2.100e+00, 9.600e-01, 1.640e+00, 1.980e+00,\n",
              "        3.590e+00, 3.220e+00, 1.960e+00, 2.660e+00, 1.700e+00, 6.000e-01,\n",
              "        3.400e+00, 2.050e+00, 3.420e+00, 2.590e+00, 3.360e+00, 3.060e+00,\n",
              "        3.490e+00, 3.390e+00, 1.850e+00, 2.310e+00, 3.980e+00, 2.890e+00,\n",
              "        0.000e+00, 2.740e+00, 2.560e+00, 1.910e+00, 5.700e-01, 2.800e-01,\n",
              "        2.360e+00, 1.730e+00, 3.050e+00, 1.870e+00, 1.940e+00, 2.080e+00,\n",
              "        2.290e+00, 2.420e+00, 2.600e+00, 1.890e+00, 1.780e+00, 1.550e+00,\n",
              "        3.190e+00, 4.180e+00, 4.210e+00, 3.630e+00, 2.000e-01, 1.540e+00,\n",
              "        2.670e+00, 1.000e-01, 2.190e+00, 2.030e+00, 3.030e+00, 2.200e+00,\n",
              "        9.200e-01, 2.750e+00, 4.000e+00, 2.510e+00, 2.110e+00, 2.230e+00,\n",
              "        1.410e+00, 3.000e+00, 1.460e+00, 8.800e-01, 1.300e+00, 1.280e+00,\n",
              "        2.250e+00, 2.020e+00, 3.380e+00, 2.040e+00, 3.790e+00, 1.400e+00,\n",
              "        4.030e+00, 1.650e+00, 7.100e-01, 2.140e+00, 1.420e+00, 2.130e+00,\n",
              "        2.650e+00, 2.350e+00, 1.200e-01, 1.680e+00, 1.120e+00, 2.780e+00,\n",
              "        1.380e+00, 2.150e+00, 1.180e+00, 1.330e+00, 6.700e-01, 1.530e+00,\n",
              "        1.150e+00, 9.300e-01, 2.120e+00, 2.480e+00, 1.600e-01, 8.700e-01,\n",
              "        2.210e+00, 1.440e+00, 1.490e+00, 1.140e+00, 2.400e+00, 1.820e+00,\n",
              "        1.370e+00, 1.930e+00, 5.800e-01, 1.590e+00, 2.530e+00, 2.330e+00,\n",
              "        5.000e-02, 1.610e+00, 2.380e+00, 1.570e+00, 1.560e+00, 1.230e+00,\n",
              "        1.660e+00, 1.170e+00, 2.840e+00, 5.900e-01, 2.090e+00, 2.390e+00,\n",
              "        1.340e+00, 1.130e+00, 8.600e-01, 1.750e+00, 4.600e-01, 1.430e+00,\n",
              "        1.630e+00, 1.450e+00, 1.470e+00, 1.990e+00, 1.500e+00, 8.000e-01,\n",
              "        1.360e+00, 5.000e-01, 2.500e-01, 9.500e-01, 1.270e+00, 3.000e-02,\n",
              "        1.720e+00, 7.300e-01, 1.760e+00, 1.350e+00, 1.480e+00, 1.520e+00,\n",
              "        1.860e+00, 2.060e+00, 6.800e-01, 9.100e-01, 1.690e+00, 8.000e-02,\n",
              "        1.290e+00, 2.170e+00, 2.500e+00, 1.010e+00, 1.580e+00, 1.040e+00,\n",
              "        2.220e+00, 1.830e+00, 6.100e-01, 1.840e+00, 9.900e-01, 1.510e+00,\n",
              "        9.000e-02, 4.000e-01, 2.520e+00, 1.320e+00, 2.000e-02, 1.050e+00,\n",
              "        2.900e-01, 1.190e+00, 8.900e-01, 3.000e-01, 1.200e+00, 1.240e+00,\n",
              "        1.250e+00, 1.070e+00, 1.020e+00, 6.900e-01, 1.950e+00, 2.000e+00,\n",
              "        7.600e-01, 6.300e-01, 9.000e-01, 4.800e-01, 6.400e-01, 3.700e-01,\n",
              "        1.310e+00, 1.500e-01, 1.210e+00, 4.900e-01, 1.300e-01, 1.810e+00,\n",
              "        1.260e+00, 8.100e-01, 7.700e-01, 1.000e+00, 1.160e+00, 1.390e+00,\n",
              "        8.500e-01, 5.200e-01, 5.100e-01, 3.800e-01, 6.200e-01, 1.090e+00,\n",
              "        1.710e+00, 1.030e+00, 3.400e-01, 1.600e+00, 5.400e-01, 1.400e-01,\n",
              "        1.000e-02, 8.200e-01, 8.300e-01, 1.100e-01, 9.400e-01, 1.770e+00,\n",
              "        7.000e-01, 9.700e-01, 7.500e-01, 3.500e-01, 7.200e-01, 7.400e-01,\n",
              "        1.800e-01, 1.100e+00, 5.600e-01, 2.600e-01, 2.100e-01, 2.200e-01,\n",
              "        5.300e-01, 5.500e-01, 2.300e-01, 3.900e-01, 3.200e-01, 4.500e-01,\n",
              "        4.100e-01, 3.100e-01, 2.400e-01, 6.000e-02, 4.300e-01, 4.400e-01,\n",
              "        1.900e-01, 4.000e-02, 1.700e-01, 3.600e-01, 3.300e-01, 2.700e-01,\n",
              "        4.200e-01]),\n",
              " 'EU_Sales': array([2.902e+01, 3.580e+00, 1.288e+01, 1.101e+01, 8.890e+00, 2.260e+00,\n",
              "        9.230e+00, 9.200e+00, 7.060e+00, 6.300e-01, 1.100e+01, 7.570e+00,\n",
              "        6.180e+00, 8.030e+00, 8.590e+00, 4.940e+00, 9.270e+00, 4.000e-01,\n",
              "        3.750e+00, 9.260e+00, 4.520e+00, 2.710e+00, 3.440e+00, 5.310e+00,\n",
              "        5.490e+00, 3.900e+00, 3.280e+00, 5.360e+00, 5.090e+00, 4.280e+00,\n",
              "        5.040e+00, 3.730e+00, 4.050e+00, 5.810e+00, 5.880e+00, 4.300e+00,\n",
              "        3.630e+00, 5.820e+00, 4.510e+00, 2.610e+00, 4.440e+00, 3.520e+00,\n",
              "        3.910e+00, 2.830e+00, 2.770e+00, 2.850e+00, 1.000e-02, 3.400e+00,\n",
              "        3.370e+00, 2.040e+00, 3.100e+00, 3.870e+00, 2.990e+00, 4.880e+00,\n",
              "        3.690e+00, 3.760e+00, 2.150e+00, 2.650e+00, 3.110e+00, 3.150e+00,\n",
              "        2.630e+00, 1.980e+00, 1.940e+00, 3.070e+00, 2.360e+00, 2.470e+00,\n",
              "        2.890e+00, 3.420e+00, 2.380e+00, 1.710e+00, 2.320e+00, 1.880e+00,\n",
              "        2.860e+00, 1.240e+00, 6.060e+00, 3.530e+00, 1.530e+00, 2.300e+00,\n",
              "        1.860e+00, 5.050e+00, 6.420e+00, 2.010e+00, 2.070e+00, 1.720e+00,\n",
              "        1.780e+00, 4.500e-01, 2.420e+00, 3.290e+00, 3.300e+00, 1.890e+00,\n",
              "        2.170e+00, 1.180e+00, 1.350e+00, 1.900e+00, 2.130e+00, 2.190e+00,\n",
              "        2.090e+00, 3.030e+00, 2.930e+00, 2.220e+00, 1.750e+00, 1.040e+00,\n",
              "        1.770e+00, 2.210e+00, 4.320e+00, 3.020e+00, 2.750e+00, 2.800e+00,\n",
              "        2.350e+00, 2.640e+00, 1.920e+00, 2.250e+00, 2.780e+00, 4.290e+00,\n",
              "        1.840e+00, 9.300e-01, 2.560e+00, 1.300e+00, 1.580e+00, 1.200e+00,\n",
              "        1.560e+00, 1.970e+00, 1.260e+00, 8.300e-01, 6.210e+00, 1.620e+00,\n",
              "        1.740e+00, 1.830e+00, 2.280e+00, 0.000e+00, 2.050e+00, 6.900e-01,\n",
              "        1.630e+00, 1.470e+00, 1.950e+00, 6.000e-01, 1.650e+00, 1.910e+00,\n",
              "        5.700e-01, 1.640e+00, 1.110e+00, 1.870e+00, 2.290e+00, 2.510e+00,\n",
              "        9.600e-01, 1.120e+00, 7.700e-01, 1.080e+00, 7.900e-01, 2.480e+00,\n",
              "        2.460e+00, 2.600e-01, 7.500e-01, 1.250e+00, 9.800e-01, 3.480e+00,\n",
              "        7.400e-01, 2.020e+00, 2.230e+00, 6.100e-01, 1.690e+00, 1.430e+00,\n",
              "        1.160e+00, 1.380e+00, 1.060e+00, 1.360e+00, 1.030e+00, 1.730e+00,\n",
              "        1.540e+00, 9.900e-01, 1.680e+00, 2.000e+00, 3.140e+00, 1.570e+00,\n",
              "        1.310e+00, 2.100e+00, 1.410e+00, 9.100e-01, 1.990e+00, 1.390e+00,\n",
              "        1.150e+00, 9.200e-01, 2.400e-01, 1.510e+00, 1.400e-01, 1.290e+00,\n",
              "        2.390e+00, 1.050e+00, 5.000e-01, 1.790e+00, 5.800e-01, 1.270e+00,\n",
              "        1.340e+00, 1.020e+00, 2.270e+00, 2.550e+00, 2.790e+00, 4.400e-01,\n",
              "        4.800e-01, 2.700e-01, 2.100e-01, 5.100e-01, 1.500e+00, 1.520e+00,\n",
              "        4.000e-02, 1.280e+00, 1.550e+00, 2.120e+00, 2.800e-01, 8.900e-01,\n",
              "        1.960e+00, 7.600e-01, 1.170e+00, 4.900e-01, 1.610e+00, 1.140e+00,\n",
              "        6.500e-01, 1.440e+00, 1.930e+00, 1.370e+00, 1.400e+00, 8.800e-01,\n",
              "        7.300e-01, 1.220e+00, 1.130e+00, 8.100e-01, 9.700e-01, 1.800e+00,\n",
              "        1.090e+00, 6.800e-01, 1.420e+00, 6.700e-01, 2.400e+00, 1.330e+00,\n",
              "        1.210e+00, 1.660e+00, 9.400e-01, 3.900e-01, 3.800e-01, 1.010e+00,\n",
              "        1.070e+00, 1.590e+00, 1.900e-01, 2.110e+00, 3.000e-01, 1.000e-01,\n",
              "        7.200e-01, 8.700e-01, 5.600e-01, 1.600e-01, 8.600e-01, 6.200e-01,\n",
              "        1.000e+00, 8.200e-01, 8.400e-01, 6.400e-01, 8.000e-01, 4.700e-01,\n",
              "        3.200e-01, 7.100e-01, 1.850e+00, 2.430e+00, 5.500e-01, 5.300e-01,\n",
              "        9.000e-02, 1.190e+00, 7.000e-02, 2.000e-01, 7.000e-01, 2.200e-01,\n",
              "        2.900e-01, 1.700e-01, 5.400e-01, 3.600e-01, 3.100e-01, 5.200e-01,\n",
              "        1.100e-01, 1.200e-01, 1.100e+00, 4.600e-01, 8.000e-02, 5.900e-01,\n",
              "        2.300e-01, 7.800e-01, 2.000e-02, 8.500e-01, 3.400e-01, 2.500e-01,\n",
              "        1.800e-01, 1.490e+00, 1.500e-01, 1.300e-01, 9.000e-01, 4.100e-01,\n",
              "        3.000e-02, 3.700e-01, 5.000e-02, 3.300e-01, 4.200e-01, 6.000e-02,\n",
              "        9.500e-01, 1.230e+00, 6.600e-01, 4.300e-01, 3.500e-01]),\n",
              " 'JP_Sales': array([3.770e+00, 6.810e+00, 3.790e+00, 3.280e+00, 1.022e+01, 4.220e+00,\n",
              "        6.500e+00, 2.930e+00, 4.700e+00, 2.800e-01, 1.930e+00, 4.130e+00,\n",
              "        7.200e+00, 3.600e+00, 2.530e+00, 2.400e-01, 9.700e-01, 4.100e-01,\n",
              "        3.540e+00, 4.160e+00, 6.040e+00, 4.180e+00, 3.840e+00, 6.000e-02,\n",
              "        4.700e-01, 5.380e+00, 5.650e+00, 5.320e+00, 1.870e+00, 1.300e-01,\n",
              "        3.120e+00, 1.100e-01, 4.340e+00, 3.500e-01, 6.500e-01, 7.000e-02,\n",
              "        8.000e-02, 4.900e-01, 3.000e-01, 2.660e+00, 4.800e-01, 5.330e+00,\n",
              "        2.670e+00, 3.600e-01, 3.960e+00, 1.910e+00, 1.100e+00, 1.200e+00,\n",
              "        3.080e+00, 2.690e+00, 1.400e-01, 2.540e+00, 2.130e+00, 8.100e-01,\n",
              "        3.800e-01, 4.400e-01, 2.120e+00, 3.150e+00, 1.250e+00, 0.000e+00,\n",
              "        4.000e-02, 2.230e+00, 2.470e+00, 1.000e-02, 1.690e+00, 3.000e+00,\n",
              "        2.000e-02, 4.360e+00, 1.980e+00, 1.000e-01, 3.810e+00, 2.490e+00,\n",
              "        5.000e-02, 1.580e+00, 3.140e+00, 6.600e-01, 2.730e+00, 3.630e+00,\n",
              "        9.800e-01, 2.200e-01, 1.450e+00, 1.310e+00, 7.000e-01, 2.420e+00,\n",
              "        6.000e-01, 1.400e+00, 1.420e+00, 1.390e+00, 1.270e+00, 8.700e-01,\n",
              "        1.700e-01, 1.900e-01, 9.400e-01, 2.100e-01, 1.600e+00, 1.030e+00,\n",
              "        2.500e-01, 1.600e-01, 2.060e+00, 1.490e+00, 1.290e+00, 9.000e-02,\n",
              "        2.870e+00, 3.000e-02, 8.300e-01, 7.800e-01, 2.330e+00, 4.350e+00,\n",
              "        2.020e+00, 1.360e+00, 1.810e+00, 1.970e+00, 9.100e-01, 9.900e-01,\n",
              "        9.500e-01, 2.000e+00, 1.010e+00, 2.780e+00, 2.110e+00, 1.090e+00,\n",
              "        2.000e-01, 3.610e+00, 1.570e+00, 2.200e+00, 1.890e+00, 1.700e+00,\n",
              "        1.080e+00, 1.500e-01, 1.110e+00, 8.000e-01, 2.900e-01, 1.540e+00,\n",
              "        1.200e-01, 8.900e-01, 4.870e+00, 1.520e+00, 1.320e+00, 1.150e+00,\n",
              "        1.440e+00, 4.100e+00, 4.600e-01, 1.050e+00, 1.610e+00, 2.600e-01,\n",
              "        1.380e+00, 7.200e-01, 6.200e-01, 1.800e-01, 5.700e-01, 5.800e-01,\n",
              "        3.100e-01, 1.760e+00, 3.700e-01, 2.100e+00, 9.000e-01, 5.100e-01,\n",
              "        6.400e-01, 2.460e+00, 9.200e-01, 1.070e+00, 2.620e+00, 1.120e+00,\n",
              "        5.400e-01, 7.300e-01, 2.700e-01, 5.900e-01, 3.670e+00, 5.500e-01,\n",
              "        4.000e-01, 1.750e+00, 3.440e+00, 3.300e-01, 2.550e+00, 7.400e-01,\n",
              "        8.200e-01, 2.320e+00, 7.600e-01, 7.700e-01, 3.180e+00, 2.350e+00,\n",
              "        3.190e+00, 9.300e-01, 8.800e-01, 3.030e+00, 4.500e-01, 1.160e+00,\n",
              "        1.190e+00, 3.400e-01, 1.130e+00, 6.800e-01, 1.960e+00, 7.100e-01,\n",
              "        1.040e+00, 2.680e+00, 2.650e+00, 9.600e-01, 2.410e+00, 5.200e-01,\n",
              "        2.430e+00, 1.340e+00, 1.480e+00, 2.340e+00, 1.060e+00, 1.210e+00,\n",
              "        2.280e+00, 1.630e+00, 2.050e+00, 2.170e+00, 1.560e+00, 1.350e+00,\n",
              "        6.300e-01, 7.500e-01, 7.900e-01, 5.300e-01, 1.530e+00, 1.300e+00,\n",
              "        1.460e+00, 1.330e+00, 3.900e-01, 6.900e-01, 4.200e-01, 5.600e-01,\n",
              "        8.400e-01, 3.200e-01, 1.710e+00, 1.650e+00, 6.100e-01, 1.510e+00,\n",
              "        1.500e+00, 1.240e+00, 1.180e+00, 1.370e+00, 1.000e+00, 1.260e+00,\n",
              "        4.300e-01, 8.500e-01, 1.280e+00, 6.700e-01, 1.140e+00, 8.600e-01,\n",
              "        1.170e+00, 5.000e-01, 1.020e+00, 2.300e-01]),\n",
              " 'Other_Sales': array([8.460e+00, 7.700e-01, 3.310e+00, 2.960e+00, 1.000e+00, 5.800e-01,\n",
              "        2.900e+00, 2.850e+00, 2.260e+00, 4.700e-01, 2.750e+00, 1.920e+00,\n",
              "        7.100e-01, 2.150e+00, 1.790e+00, 1.670e+00, 4.140e+00, 1.057e+01,\n",
              "        5.500e-01, 2.050e+00, 1.370e+00, 4.200e-01, 4.600e-01, 1.380e+00,\n",
              "        1.780e+00, 5.000e-01, 8.200e-01, 1.180e+00, 1.160e+00, 1.320e+00,\n",
              "        5.900e-01, 1.130e+00, 7.900e-01, 2.310e+00, 2.520e+00, 1.120e+00,\n",
              "        1.290e+00, 1.620e+00, 1.300e+00, 1.020e+00, 1.830e+00, 8.800e-01,\n",
              "        8.900e-01, 1.210e+00, 2.020e+00, 2.300e-01, 7.530e+00, 7.600e-01,\n",
              "        6.500e-01, 2.900e-01, 1.030e+00, 5.200e-01, 7.800e-01, 2.120e+00,\n",
              "        1.630e+00, 3.500e-01, 9.800e-01, 1.070e+00, 1.500e-01, 6.300e-01,\n",
              "        7.300e-01, 9.600e-01, 9.000e-01, 4.100e-01, 7.000e-01, 8.500e-01,\n",
              "        1.800e-01, 1.260e+00, 6.800e-01, 8.000e-02, 4.300e-01, 2.010e+00,\n",
              "        9.100e-01, 3.300e-01, 1.750e+00, 6.400e-01, 1.230e+00, 1.600e-01,\n",
              "        3.100e-01, 1.900e-01, 6.900e-01, 6.700e-01, 1.100e+00, 2.800e-01,\n",
              "        2.200e-01, 4.900e-01, 5.600e-01, 1.730e+00, 1.090e+00, 9.900e-01,\n",
              "        1.060e+00, 3.000e-01, 1.040e+00, 1.420e+00, 6.200e-01, 1.470e+00,\n",
              "        1.050e+00, 1.400e-01, 1.140e+00, 7.000e-02, 2.100e-01, 6.100e-01,\n",
              "        5.700e-01, 1.700e-01, 1.200e-01, 0.000e+00, 5.100e-01, 6.000e-01,\n",
              "        7.200e-01, 8.300e-01, 2.400e-01, 1.010e+00, 1.740e+00, 5.300e-01,\n",
              "        4.500e-01, 1.100e-01, 8.700e-01, 4.000e-02, 8.000e-01, 3.400e-01,\n",
              "        2.000e-01, 9.000e-02, 8.400e-01, 9.400e-01, 4.400e-01, 6.000e-02,\n",
              "        3.800e-01, 1.480e+00, 3.700e-01, 6.600e-01, 1.000e-01, 2.500e-01,\n",
              "        1.300e-01, 4.800e-01, 5.000e-02, 2.000e-02, 7.400e-01, 3.900e-01,\n",
              "        8.600e-01, 4.000e-01, 7.500e-01, 1.930e+00, 5.400e-01, 2.700e-01,\n",
              "        3.600e-01, 3.200e-01, 2.930e+00, 2.600e-01, 2.460e+00, 1.000e-02,\n",
              "        3.000e-02, 1.510e+00, 1.680e+00, 1.410e+00, 1.820e+00, 1.330e+00,\n",
              "        9.300e-01]),\n",
              " 'Global_Sales': array([8.274e+01, 4.024e+01, 3.582e+01, 3.300e+01, 3.137e+01, 3.026e+01,\n",
              "        3.001e+01, 2.902e+01, 2.862e+01, 2.831e+01, 2.476e+01, 2.342e+01,\n",
              "        2.310e+01, 2.272e+01, 2.200e+01, 2.182e+01, 2.140e+01, 2.081e+01,\n",
              "        2.061e+01, 2.022e+01, 1.836e+01, 1.814e+01, 1.728e+01, 1.638e+01,\n",
              "        1.615e+01, 1.585e+01, 1.532e+01, 1.530e+01, 1.498e+01, 1.476e+01,\n",
              "        1.464e+01, 1.435e+01, 1.424e+01, 1.403e+01, 1.373e+01, 1.351e+01,\n",
              "        1.346e+01, 1.310e+01, 1.304e+01, 1.273e+01, 1.227e+01, 1.221e+01,\n",
              "        1.214e+01, 1.198e+01, 1.190e+01, 1.189e+01, 1.166e+01, 1.152e+01,\n",
              "        1.133e+01, 1.118e+01, 1.102e+01, 1.095e+01, 1.079e+01, 1.077e+01,\n",
              "        1.069e+01, 1.057e+01, 1.055e+01, 1.049e+01, 1.042e+01, 1.026e+01,\n",
              "        1.021e+01, 9.880e+00, 9.870e+00, 9.820e+00, 9.760e+00, 9.720e+00,\n",
              "        9.590e+00, 9.520e+00, 9.490e+00, 9.320e+00, 9.300e+00, 9.200e+00,\n",
              "        9.090e+00, 9.020e+00, 8.840e+00, 8.760e+00, 8.490e+00, 8.420e+00,\n",
              "        8.330e+00, 8.240e+00, 8.110e+00, 8.090e+00, 8.060e+00, 8.050e+00,\n",
              "        7.860e+00, 7.840e+00, 7.810e+00, 7.720e+00, 7.690e+00, 7.670e+00,\n",
              "        7.600e+00, 7.580e+00, 7.460e+00, 7.450e+00, 7.370e+00, 7.340e+00,\n",
              "        7.310e+00, 7.300e+00, 7.270e+00, 7.230e+00, 7.200e+00, 7.160e+00,\n",
              "        7.130e+00, 7.070e+00, 6.960e+00, 6.950e+00, 6.910e+00, 6.900e+00,\n",
              "        6.830e+00, 6.820e+00, 6.810e+00, 6.760e+00, 6.730e+00, 6.720e+00,\n",
              "        6.690e+00, 6.670e+00, 6.600e+00, 6.590e+00, 6.560e+00, 6.510e+00,\n",
              "        6.500e+00, 6.430e+00, 6.410e+00, 6.400e+00, 6.390e+00, 6.360e+00,\n",
              "        6.340e+00, 6.310e+00, 6.300e+00, 6.280e+00, 6.270e+00, 6.240e+00,\n",
              "        6.110e+00, 6.050e+00, 6.030e+00, 5.990e+00, 5.950e+00, 5.920e+00,\n",
              "        5.840e+00, 5.830e+00, 5.820e+00, 5.740e+00, 5.720e+00, 5.650e+00,\n",
              "        5.580e+00, 5.570e+00, 5.550e+00, 5.530e+00, 5.510e+00, 5.500e+00,\n",
              "        5.490e+00, 5.470e+00, 5.460e+00, 5.450e+00, 5.430e+00, 5.420e+00,\n",
              "        5.360e+00, 5.340e+00, 5.310e+00, 5.300e+00, 5.290e+00, 5.270e+00,\n",
              "        5.260e+00, 5.240e+00, 5.230e+00, 5.210e+00, 5.200e+00, 5.190e+00,\n",
              "        5.180e+00, 5.170e+00, 5.150e+00, 5.140e+00, 5.130e+00, 5.120e+00,\n",
              "        5.110e+00, 5.080e+00, 5.070e+00, 5.050e+00, 5.020e+00, 5.010e+00,\n",
              "        5.000e+00, 4.980e+00, 4.960e+00, 4.940e+00, 4.910e+00, 4.900e+00,\n",
              "        4.880e+00, 4.870e+00, 4.850e+00, 4.840e+00, 4.830e+00, 4.820e+00,\n",
              "        4.790e+00, 4.770e+00, 4.760e+00, 4.730e+00, 4.700e+00, 4.680e+00,\n",
              "        4.670e+00, 4.640e+00, 4.630e+00, 4.620e+00, 4.610e+00, 4.600e+00,\n",
              "        4.580e+00, 4.570e+00, 4.550e+00, 4.530e+00, 4.500e+00, 4.490e+00,\n",
              "        4.480e+00, 4.470e+00, 4.450e+00, 4.440e+00, 4.420e+00, 4.410e+00,\n",
              "        4.390e+00, 4.380e+00, 4.370e+00, 4.350e+00, 4.340e+00, 4.330e+00,\n",
              "        4.310e+00, 4.260e+00, 4.250e+00, 4.240e+00, 4.230e+00, 4.220e+00,\n",
              "        4.210e+00, 4.200e+00, 4.190e+00, 4.170e+00, 4.160e+00, 4.140e+00,\n",
              "        4.120e+00, 4.110e+00, 4.100e+00, 4.090e+00, 4.080e+00, 4.070e+00,\n",
              "        4.060e+00, 4.050e+00, 4.030e+00, 4.020e+00, 4.010e+00, 4.000e+00,\n",
              "        3.990e+00, 3.980e+00, 3.920e+00, 3.910e+00, 3.900e+00, 3.890e+00,\n",
              "        3.880e+00, 3.870e+00, 3.850e+00, 3.840e+00, 3.830e+00, 3.820e+00,\n",
              "        3.810e+00, 3.790e+00, 3.780e+00, 3.770e+00, 3.760e+00, 3.730e+00,\n",
              "        3.720e+00, 3.710e+00, 3.700e+00, 3.690e+00, 3.670e+00, 3.660e+00,\n",
              "        3.650e+00, 3.640e+00, 3.630e+00, 3.620e+00, 3.610e+00, 3.600e+00,\n",
              "        3.590e+00, 3.580e+00, 3.560e+00, 3.540e+00, 3.530e+00, 3.520e+00,\n",
              "        3.510e+00, 3.500e+00, 3.490e+00, 3.480e+00, 3.460e+00, 3.450e+00,\n",
              "        3.440e+00, 3.430e+00, 3.420e+00, 3.410e+00, 3.400e+00, 3.390e+00,\n",
              "        3.380e+00, 3.360e+00, 3.340e+00, 3.330e+00, 3.320e+00, 3.310e+00,\n",
              "        3.280e+00, 3.270e+00, 3.260e+00, 3.240e+00, 3.230e+00, 3.220e+00,\n",
              "        3.210e+00, 3.200e+00, 3.190e+00, 3.180e+00, 3.170e+00, 3.160e+00,\n",
              "        3.150e+00, 3.140e+00, 3.130e+00, 3.120e+00, 3.110e+00, 3.090e+00,\n",
              "        3.080e+00, 3.070e+00, 3.050e+00, 3.040e+00, 3.030e+00, 3.020e+00,\n",
              "        3.000e+00, 2.990e+00, 2.980e+00, 2.970e+00, 2.960e+00, 2.950e+00,\n",
              "        2.940e+00, 2.930e+00, 2.920e+00, 2.910e+00, 2.900e+00, 2.890e+00,\n",
              "        2.880e+00, 2.870e+00, 2.860e+00, 2.850e+00, 2.840e+00, 2.830e+00,\n",
              "        2.820e+00, 2.810e+00, 2.800e+00, 2.790e+00, 2.780e+00, 2.770e+00,\n",
              "        2.760e+00, 2.750e+00, 2.740e+00, 2.730e+00, 2.720e+00, 2.710e+00,\n",
              "        2.700e+00, 2.690e+00, 2.680e+00, 2.670e+00, 2.660e+00, 2.650e+00,\n",
              "        2.640e+00, 2.630e+00, 2.620e+00, 2.610e+00, 2.600e+00, 2.590e+00,\n",
              "        2.580e+00, 2.570e+00, 2.560e+00, 2.540e+00, 2.530e+00, 2.520e+00,\n",
              "        2.510e+00, 2.500e+00, 2.490e+00, 2.480e+00, 2.470e+00, 2.460e+00,\n",
              "        2.450e+00, 2.440e+00, 2.430e+00, 2.420e+00, 2.410e+00, 2.400e+00,\n",
              "        2.390e+00, 2.380e+00, 2.370e+00, 2.360e+00, 2.350e+00, 2.340e+00,\n",
              "        2.330e+00, 2.320e+00, 2.310e+00, 2.300e+00, 2.290e+00, 2.280e+00,\n",
              "        2.270e+00, 2.260e+00, 2.250e+00, 2.240e+00, 2.230e+00, 2.220e+00,\n",
              "        2.210e+00, 2.200e+00, 2.190e+00, 2.180e+00, 2.170e+00, 2.160e+00,\n",
              "        2.150e+00, 2.140e+00, 2.130e+00, 2.120e+00, 2.110e+00, 2.100e+00,\n",
              "        2.090e+00, 2.080e+00, 2.070e+00, 2.060e+00, 2.050e+00, 2.040e+00,\n",
              "        2.030e+00, 2.020e+00, 2.010e+00, 2.000e+00, 1.990e+00, 1.980e+00,\n",
              "        1.970e+00, 1.960e+00, 1.950e+00, 1.940e+00, 1.930e+00, 1.920e+00,\n",
              "        1.910e+00, 1.900e+00, 1.890e+00, 1.880e+00, 1.870e+00, 1.860e+00,\n",
              "        1.850e+00, 1.840e+00, 1.830e+00, 1.820e+00, 1.810e+00, 1.800e+00,\n",
              "        1.790e+00, 1.780e+00, 1.770e+00, 1.760e+00, 1.750e+00, 1.740e+00,\n",
              "        1.730e+00, 1.720e+00, 1.710e+00, 1.700e+00, 1.690e+00, 1.680e+00,\n",
              "        1.670e+00, 1.660e+00, 1.650e+00, 1.640e+00, 1.630e+00, 1.620e+00,\n",
              "        1.610e+00, 1.600e+00, 1.590e+00, 1.580e+00, 1.570e+00, 1.560e+00,\n",
              "        1.550e+00, 1.540e+00, 1.530e+00, 1.520e+00, 1.510e+00, 1.500e+00,\n",
              "        1.490e+00, 1.480e+00, 1.470e+00, 1.460e+00, 1.450e+00, 1.440e+00,\n",
              "        1.430e+00, 1.420e+00, 1.410e+00, 1.400e+00, 1.390e+00, 1.380e+00,\n",
              "        1.370e+00, 1.360e+00, 1.350e+00, 1.340e+00, 1.330e+00, 1.320e+00,\n",
              "        1.310e+00, 1.300e+00, 1.290e+00, 1.280e+00, 1.270e+00, 1.260e+00,\n",
              "        1.250e+00, 1.240e+00, 1.230e+00, 1.220e+00, 1.210e+00, 1.200e+00,\n",
              "        1.190e+00, 1.180e+00, 1.170e+00, 1.160e+00, 1.150e+00, 1.140e+00,\n",
              "        1.130e+00, 1.120e+00, 1.110e+00, 1.100e+00, 1.090e+00, 1.080e+00,\n",
              "        1.070e+00, 1.060e+00, 1.050e+00, 1.040e+00, 1.030e+00, 1.020e+00,\n",
              "        1.010e+00, 1.000e+00, 9.900e-01, 9.800e-01, 9.700e-01, 9.600e-01,\n",
              "        9.500e-01, 9.400e-01, 9.300e-01, 9.200e-01, 9.100e-01, 9.000e-01,\n",
              "        8.900e-01, 8.800e-01, 8.700e-01, 8.600e-01, 8.500e-01, 8.400e-01,\n",
              "        8.300e-01, 8.200e-01, 8.100e-01, 8.000e-01, 7.900e-01, 7.800e-01,\n",
              "        7.700e-01, 7.600e-01, 7.500e-01, 7.400e-01, 7.300e-01, 7.200e-01,\n",
              "        7.100e-01, 7.000e-01, 6.900e-01, 6.800e-01, 6.700e-01, 6.600e-01,\n",
              "        6.500e-01, 6.400e-01, 6.300e-01, 6.200e-01, 6.100e-01, 6.000e-01,\n",
              "        5.900e-01, 5.800e-01, 5.700e-01, 5.600e-01, 5.500e-01, 5.400e-01,\n",
              "        5.300e-01, 5.200e-01, 5.100e-01, 5.000e-01, 4.900e-01, 4.800e-01,\n",
              "        4.700e-01, 4.600e-01, 4.500e-01, 4.400e-01, 4.300e-01, 4.200e-01,\n",
              "        4.100e-01, 4.000e-01, 3.900e-01, 3.800e-01, 3.700e-01, 3.600e-01,\n",
              "        3.500e-01, 3.400e-01, 3.300e-01, 3.200e-01, 3.100e-01, 3.000e-01,\n",
              "        2.900e-01, 2.800e-01, 2.700e-01, 2.600e-01, 2.500e-01, 2.400e-01,\n",
              "        2.300e-01, 2.200e-01, 2.100e-01, 2.000e-01, 1.900e-01, 1.800e-01,\n",
              "        1.700e-01, 1.600e-01, 1.500e-01, 1.400e-01, 1.300e-01, 1.200e-01,\n",
              "        1.100e-01, 1.000e-01, 9.000e-02, 8.000e-02, 7.000e-02, 6.000e-02,\n",
              "        5.000e-02, 4.000e-02, 3.000e-02, 2.000e-02, 1.000e-02])}"
            ]
          },
          "metadata": {},
          "execution_count": 43
        }
      ]
    },
    {
      "cell_type": "code",
      "source": [
        "columns_with_null = df.columns[df.isnull().any()].tolist()\n",
        "print(columns_with_null)"
      ],
      "metadata": {
        "colab": {
          "base_uri": "https://localhost:8080/"
        },
        "id": "Tn3rMmgtKuyE",
        "outputId": "897a87d7-4611-4a34-9b6c-ccbbca810bfa"
      },
      "execution_count": null,
      "outputs": [
        {
          "output_type": "stream",
          "name": "stdout",
          "text": [
            "['Year', 'Publisher']\n"
          ]
        }
      ]
    },
    {
      "cell_type": "markdown",
      "source": [
        "**Quantile statistics:**"
      ],
      "metadata": {
        "id": "EWMOIx-fmDrq"
      }
    },
    {
      "cell_type": "code",
      "source": [
        "minvalue = {}\n",
        "for col in df:\n",
        "  if df[col].dtype=='int' or df[col].dtype=='float':\n",
        "\n",
        "    minvalue[col] = df[col].min()\n",
        "\n",
        "minvalue"
      ],
      "metadata": {
        "colab": {
          "base_uri": "https://localhost:8080/"
        },
        "id": "dP5JNy8WXwKb",
        "outputId": "68ebbe68-9c6c-4c42-eab0-fc9ce4a651a7"
      },
      "execution_count": null,
      "outputs": [
        {
          "output_type": "execute_result",
          "data": {
            "text/plain": [
              "{'Rank': 1,\n",
              " 'Year': 1980.0,\n",
              " 'NA_Sales': 0.0,\n",
              " 'EU_Sales': 0.0,\n",
              " 'JP_Sales': 0.0,\n",
              " 'Other_Sales': 0.0,\n",
              " 'Global_Sales': 0.01}"
            ]
          },
          "metadata": {},
          "execution_count": 52
        }
      ]
    },
    {
      "cell_type": "code",
      "source": [
        "maxvalue={}\n",
        "for col in df:\n",
        "  if df[col].dtype=='int' or df[col].dtype=='float':\n",
        "    maxvalue[col]=df[col].max()\n",
        "maxvalue\n"
      ],
      "metadata": {
        "colab": {
          "base_uri": "https://localhost:8080/"
        },
        "id": "WMGk2qxemQn4",
        "outputId": "76bb55dc-c82c-471f-e42a-ed5a4ffcd843"
      },
      "execution_count": null,
      "outputs": [
        {
          "output_type": "execute_result",
          "data": {
            "text/plain": [
              "{'Rank': 16600,\n",
              " 'Year': 2020.0,\n",
              " 'NA_Sales': 41.49,\n",
              " 'EU_Sales': 29.02,\n",
              " 'JP_Sales': 10.22,\n",
              " 'Other_Sales': 10.57,\n",
              " 'Global_Sales': 82.74}"
            ]
          },
          "metadata": {},
          "execution_count": 53
        }
      ]
    },
    {
      "cell_type": "code",
      "source": [
        "median={}\n",
        "for col in df:\n",
        "  if df[col].dtype=='int' or df[col].dtype=='float':\n",
        "    median[col]=df[col].median()\n",
        "median\n"
      ],
      "metadata": {
        "colab": {
          "base_uri": "https://localhost:8080/"
        },
        "id": "GEL8Tm0EqDKg",
        "outputId": "fdbc5004-e17e-47a1-d374-3ddb8cc701b4"
      },
      "execution_count": null,
      "outputs": [
        {
          "output_type": "execute_result",
          "data": {
            "text/plain": [
              "{'Rank': 8300.5,\n",
              " 'Year': 2007.0,\n",
              " 'NA_Sales': 0.08,\n",
              " 'EU_Sales': 0.02,\n",
              " 'JP_Sales': 0.0,\n",
              " 'Other_Sales': 0.01,\n",
              " 'Global_Sales': 0.17}"
            ]
          },
          "metadata": {},
          "execution_count": 55
        }
      ]
    },
    {
      "cell_type": "markdown",
      "source": [
        "**Descriptive statistics: **"
      ],
      "metadata": {
        "id": "0fh5Yf-DrMcJ"
      }
    },
    {
      "cell_type": "code",
      "source": [
        "mode={}\n",
        "for col in df:\n",
        "  if df[col].dtype=='int' or df[col].dtype=='float':\n",
        "    mode[col]=df[col].mode()\n",
        "mode"
      ],
      "metadata": {
        "colab": {
          "base_uri": "https://localhost:8080/"
        },
        "id": "GEE6LXrEqqke",
        "outputId": "fded97db-e88a-4580-e810-6e9dba6d25c2"
      },
      "execution_count": null,
      "outputs": [
        {
          "output_type": "execute_result",
          "data": {
            "text/plain": [
              "{'Rank': 0            1\n",
              " 1            2\n",
              " 2            3\n",
              " 3            4\n",
              " 4            5\n",
              "          ...  \n",
              " 16593    16596\n",
              " 16594    16597\n",
              " 16595    16598\n",
              " 16596    16599\n",
              " 16597    16600\n",
              " Name: Rank, Length: 16598, dtype: int64,\n",
              " 'Year': 0    2009.0\n",
              " Name: Year, dtype: float64,\n",
              " 'NA_Sales': 0    0.0\n",
              " Name: NA_Sales, dtype: float64,\n",
              " 'EU_Sales': 0    0.0\n",
              " Name: EU_Sales, dtype: float64,\n",
              " 'JP_Sales': 0    0.0\n",
              " Name: JP_Sales, dtype: float64,\n",
              " 'Other_Sales': 0    0.0\n",
              " Name: Other_Sales, dtype: float64,\n",
              " 'Global_Sales': 0    0.02\n",
              " Name: Global_Sales, dtype: float64}"
            ]
          },
          "metadata": {},
          "execution_count": 57
        }
      ]
    },
    {
      "cell_type": "markdown",
      "source": [],
      "metadata": {
        "id": "CZEUP2UTrHrt"
      }
    },
    {
      "cell_type": "code",
      "source": [
        "mean={}\n",
        "for col in df:\n",
        "  if df[col].dtype=='int' or df[col].dtype=='float':\n",
        "    mean[col]=df[col].mean()\n",
        "mean"
      ],
      "metadata": {
        "colab": {
          "base_uri": "https://localhost:8080/"
        },
        "id": "Q2Ac2Ts7rFg4",
        "outputId": "3912ffff-1e26-4a2b-a458-a783242d72b5"
      },
      "execution_count": null,
      "outputs": [
        {
          "output_type": "execute_result",
          "data": {
            "text/plain": [
              "{'Rank': 8300.605253645017,\n",
              " 'Year': 2006.4064433147546,\n",
              " 'NA_Sales': 0.26466742981082064,\n",
              " 'EU_Sales': 0.14665200626581515,\n",
              " 'JP_Sales': 0.077781660441017,\n",
              " 'Other_Sales': 0.0480630196409206,\n",
              " 'Global_Sales': 0.5374406555006628}"
            ]
          },
          "metadata": {},
          "execution_count": 58
        }
      ]
    },
    {
      "cell_type": "code",
      "source": [
        "standard_deviation={}\n",
        "for col in df:\n",
        "  if df[col].dtype=='int' or df[col].dtype=='float':\n",
        "    standard_deviation[col]=df[col].std()\n",
        "standard_deviation"
      ],
      "metadata": {
        "colab": {
          "base_uri": "https://localhost:8080/"
        },
        "id": "DeKE4IGorkuv",
        "outputId": "43a225ea-a213-4cb3-e342-156234eaa97d"
      },
      "execution_count": null,
      "outputs": [
        {
          "output_type": "execute_result",
          "data": {
            "text/plain": [
              "{'Rank': 4791.853932896403,\n",
              " 'Year': 5.828981114712805,\n",
              " 'NA_Sales': 0.8166830292988796,\n",
              " 'EU_Sales': 0.5053512312869116,\n",
              " 'JP_Sales': 0.30929064808220297,\n",
              " 'Other_Sales': 0.18858840291271461,\n",
              " 'Global_Sales': 1.5550279355699124}"
            ]
          },
          "metadata": {},
          "execution_count": 60
        }
      ]
    },
    {
      "cell_type": "code",
      "source": [
        "sum={}\n",
        "for col in df:\n",
        "  if df[col].dtype=='int' or df[col].dtype==\"float\":\n",
        "    sum[col]=df[col].sum()\n",
        "total_sum=0\n",
        "for x,y in sum.items():\n",
        "  total_sum+=y\n",
        "print(total_sum)\n",
        "\n"
      ],
      "metadata": {
        "colab": {
          "base_uri": "https://localhost:8080/"
        },
        "id": "5bLRz3X2rrI6",
        "outputId": "73ec2f12-03dc-4b95-a49d-618ba76d3498"
      },
      "execution_count": null,
      "outputs": [
        {
          "output_type": "stream",
          "name": "stdout",
          "text": [
            "170549880.29\n"
          ]
        }
      ]
    },
    {
      "cell_type": "code",
      "source": [
        "coefficient_of_variation={}\n",
        "for col in df:\n",
        "  if df[col].dtype=='int' or df[col].dtype=='float':\n",
        "    coefficient_of_variation[col]=df[col].std()/df[col].mean()\n",
        "coefficient_of_variation"
      ],
      "metadata": {
        "colab": {
          "base_uri": "https://localhost:8080/"
        },
        "id": "6b4bpV2psTz7",
        "outputId": "3bcbdc29-c26b-41bf-a457-b7ff637de525"
      },
      "execution_count": null,
      "outputs": [
        {
          "output_type": "execute_result",
          "data": {
            "text/plain": [
              "{'Rank': 0.5772897019518152,\n",
              " 'Year': 0.002905184607104247,\n",
              " 'NA_Sales': 3.0856952435841065,\n",
              " 'EU_Sales': 3.445921021843599,\n",
              " 'JP_Sales': 3.9763955452807886,\n",
              " 'Other_Sales': 3.923773502407066,\n",
              " 'Global_Sales': 2.8933946839605897}"
            ]
          },
          "metadata": {},
          "execution_count": 63
        }
      ]
    },
    {
      "cell_type": "code",
      "source": [
        "mad={}\n",
        "for col in df:\n",
        "  if df[col].dtype=='int' or df[col].dtype=='float':\n",
        "    mad[col]=df[col].mad()\n",
        "mad"
      ],
      "metadata": {
        "colab": {
          "base_uri": "https://localhost:8080/"
        },
        "id": "sQao3oIZtQ0H",
        "outputId": "c94fcd62-0dda-4272-88fd-12de2576dd04"
      },
      "execution_count": null,
      "outputs": [
        {
          "output_type": "stream",
          "name": "stderr",
          "text": [
            "<ipython-input-64-9afb8ddff0e7>:4: FutureWarning: The 'mad' method is deprecated and will be removed in a future version. To compute the same result, you may do `(df - df.mean()).abs().mean()`.\n",
            "  mad[col]=df[col].mad()\n"
          ]
        },
        {
          "output_type": "execute_result",
          "data": {
            "text/plain": [
              "{'Rank': 4149.683937823836,\n",
              " 'Year': 4.504597641252936,\n",
              " 'NA_Sales': 0.3081569384093578,\n",
              " 'EU_Sales': 0.1899439192787938,\n",
              " 'JP_Sales': 0.11556703116780889,\n",
              " 'Other_Sales': 0.06135174412252418,\n",
              " 'Global_Sales': 0.59071007325455}"
            ]
          },
          "metadata": {},
          "execution_count": 64
        }
      ]
    },
    {
      "cell_type": "markdown",
      "source": [
        "**Most frequent and extreme values **\n",
        "\n",
        "> Indented block\n",
        "\n"
      ],
      "metadata": {
        "id": "FgWGlLe5ufwn"
      }
    },
    {
      "cell_type": "code",
      "source": [
        "most_frequent_values = df.stack().value_counts()\n",
        "print(most_frequent_values.head(1))"
      ],
      "metadata": {
        "colab": {
          "base_uri": "https://localhost:8080/"
        },
        "id": "NDfsLcAAuZX-",
        "outputId": "d24cb8cb-77a2-4e67-eae0-bcca5c8fabbb"
      },
      "execution_count": null,
      "outputs": [
        {
          "output_type": "stream",
          "name": "stdout",
          "text": [
            "0.0    27161\n",
            "dtype: int64\n"
          ]
        }
      ]
    },
    {
      "cell_type": "code",
      "source": [
        "extreme_values = df.describe(percentiles=[0.01, 0.99])\n",
        "print(extreme_values)"
      ],
      "metadata": {
        "colab": {
          "base_uri": "https://localhost:8080/"
        },
        "id": "NXnp1gwru2tf",
        "outputId": "0b742b73-f76e-4206-e3c1-f8c0dda4e4c3"
      },
      "execution_count": null,
      "outputs": [
        {
          "output_type": "stream",
          "name": "stdout",
          "text": [
            "               Rank          Year      NA_Sales      EU_Sales      JP_Sales  \\\n",
            "count  16598.000000  16327.000000  16598.000000  16598.000000  16598.000000   \n",
            "mean    8300.605254   2006.406443      0.264667      0.146652      0.077782   \n",
            "std     4791.853933      5.828981      0.816683      0.505351      0.309291   \n",
            "min        1.000000   1980.000000      0.000000      0.000000      0.000000   \n",
            "1%       166.970000   1987.000000      0.000000      0.000000      0.000000   \n",
            "50%     8300.500000   2007.000000      0.080000      0.020000      0.000000   \n",
            "99%    16434.030000   2016.000000      2.800000      1.940000      1.270000   \n",
            "max    16600.000000   2020.000000     41.490000     29.020000     10.220000   \n",
            "\n",
            "        Other_Sales  Global_Sales  \n",
            "count  16598.000000  16598.000000  \n",
            "mean       0.048063      0.537441  \n",
            "std        0.188588      1.555028  \n",
            "min        0.000000      0.010000  \n",
            "1%         0.000000      0.010000  \n",
            "50%        0.010000      0.170000  \n",
            "99%        0.650000      5.430600  \n",
            "max       10.570000     82.740000  \n"
          ]
        }
      ]
    },
    {
      "cell_type": "markdown",
      "source": [
        "**Correlations:**"
      ],
      "metadata": {
        "id": "R0EP4xo4yr7g"
      }
    },
    {
      "cell_type": "code",
      "source": [
        "high_corr=[]\n",
        "threshold=0.8\n",
        "pearson_corr = df.corr(method='pearson')\n",
        "for col1 in pearson_corr.columns:\n",
        "    for col2 in pearson_corr.columns:\n",
        "        if col1 != col2 and abs(pearson_corr.loc[col1, col2]) > threshold:\n",
        "            high_corr.append((col1, col2, pearson_corr.loc[col1, col2]))\n",
        "print(high_corr)"
      ],
      "metadata": {
        "colab": {
          "base_uri": "https://localhost:8080/"
        },
        "id": "1BLXYcheyjKW",
        "outputId": "985f780c-4d49-4640-9ebc-5cb859908f06"
      },
      "execution_count": null,
      "outputs": [
        {
          "output_type": "stream",
          "name": "stdout",
          "text": [
            "[('NA_Sales', 'Global_Sales', 0.9410473571255572), ('EU_Sales', 'Global_Sales', 0.9028358134817438), ('Global_Sales', 'NA_Sales', 0.9410473571255572), ('Global_Sales', 'EU_Sales', 0.9028358134817438)]\n"
          ]
        },
        {
          "output_type": "stream",
          "name": "stderr",
          "text": [
            "<ipython-input-77-81452cae8721>:3: FutureWarning: The default value of numeric_only in DataFrame.corr is deprecated. In a future version, it will default to False. Select only valid columns or specify the value of numeric_only to silence this warning.\n",
            "  pearson_corr = df.corr(method='pearson')\n"
          ]
        }
      ]
    },
    {
      "cell_type": "markdown",
      "source": [
        "**duplicate**"
      ],
      "metadata": {
        "id": "SZuGpIc6KN8q"
      }
    },
    {
      "cell_type": "code",
      "source": [
        "duplicated_rows=df[df.duplicated()]\n",
        "duplicated_rows\n"
      ],
      "metadata": {
        "colab": {
          "base_uri": "https://localhost:8080/",
          "height": 53
        },
        "id": "-lfHFlqbCPzk",
        "outputId": "24e99ba4-bf1e-481d-dbd4-af4ce08d94bd"
      },
      "execution_count": null,
      "outputs": [
        {
          "output_type": "execute_result",
          "data": {
            "text/plain": [
              "Empty DataFrame\n",
              "Columns: [Rank, Name, Platform, Year, Genre, Publisher, NA_Sales, EU_Sales, JP_Sales, Other_Sales, Global_Sales]\n",
              "Index: []"
            ],
            "text/html": [
              "\n",
              "  <div id=\"df-7c385f39-a18e-4336-9a35-ebb3189cb0b6\" class=\"colab-df-container\">\n",
              "    <div>\n",
              "<style scoped>\n",
              "    .dataframe tbody tr th:only-of-type {\n",
              "        vertical-align: middle;\n",
              "    }\n",
              "\n",
              "    .dataframe tbody tr th {\n",
              "        vertical-align: top;\n",
              "    }\n",
              "\n",
              "    .dataframe thead th {\n",
              "        text-align: right;\n",
              "    }\n",
              "</style>\n",
              "<table border=\"1\" class=\"dataframe\">\n",
              "  <thead>\n",
              "    <tr style=\"text-align: right;\">\n",
              "      <th></th>\n",
              "      <th>Rank</th>\n",
              "      <th>Name</th>\n",
              "      <th>Platform</th>\n",
              "      <th>Year</th>\n",
              "      <th>Genre</th>\n",
              "      <th>Publisher</th>\n",
              "      <th>NA_Sales</th>\n",
              "      <th>EU_Sales</th>\n",
              "      <th>JP_Sales</th>\n",
              "      <th>Other_Sales</th>\n",
              "      <th>Global_Sales</th>\n",
              "    </tr>\n",
              "  </thead>\n",
              "  <tbody>\n",
              "  </tbody>\n",
              "</table>\n",
              "</div>\n",
              "    <div class=\"colab-df-buttons\">\n",
              "\n",
              "  <div class=\"colab-df-container\">\n",
              "    <button class=\"colab-df-convert\" onclick=\"convertToInteractive('df-7c385f39-a18e-4336-9a35-ebb3189cb0b6')\"\n",
              "            title=\"Convert this dataframe to an interactive table.\"\n",
              "            style=\"display:none;\">\n",
              "\n",
              "  <svg xmlns=\"http://www.w3.org/2000/svg\" height=\"24px\" viewBox=\"0 -960 960 960\">\n",
              "    <path d=\"M120-120v-720h720v720H120Zm60-500h600v-160H180v160Zm220 220h160v-160H400v160Zm0 220h160v-160H400v160ZM180-400h160v-160H180v160Zm440 0h160v-160H620v160ZM180-180h160v-160H180v160Zm440 0h160v-160H620v160Z\"/>\n",
              "  </svg>\n",
              "    </button>\n",
              "\n",
              "  <style>\n",
              "    .colab-df-container {\n",
              "      display:flex;\n",
              "      gap: 12px;\n",
              "    }\n",
              "\n",
              "    .colab-df-convert {\n",
              "      background-color: #E8F0FE;\n",
              "      border: none;\n",
              "      border-radius: 50%;\n",
              "      cursor: pointer;\n",
              "      display: none;\n",
              "      fill: #1967D2;\n",
              "      height: 32px;\n",
              "      padding: 0 0 0 0;\n",
              "      width: 32px;\n",
              "    }\n",
              "\n",
              "    .colab-df-convert:hover {\n",
              "      background-color: #E2EBFA;\n",
              "      box-shadow: 0px 1px 2px rgba(60, 64, 67, 0.3), 0px 1px 3px 1px rgba(60, 64, 67, 0.15);\n",
              "      fill: #174EA6;\n",
              "    }\n",
              "\n",
              "    .colab-df-buttons div {\n",
              "      margin-bottom: 4px;\n",
              "    }\n",
              "\n",
              "    [theme=dark] .colab-df-convert {\n",
              "      background-color: #3B4455;\n",
              "      fill: #D2E3FC;\n",
              "    }\n",
              "\n",
              "    [theme=dark] .colab-df-convert:hover {\n",
              "      background-color: #434B5C;\n",
              "      box-shadow: 0px 1px 3px 1px rgba(0, 0, 0, 0.15);\n",
              "      filter: drop-shadow(0px 1px 2px rgba(0, 0, 0, 0.3));\n",
              "      fill: #FFFFFF;\n",
              "    }\n",
              "  </style>\n",
              "\n",
              "    <script>\n",
              "      const buttonEl =\n",
              "        document.querySelector('#df-7c385f39-a18e-4336-9a35-ebb3189cb0b6 button.colab-df-convert');\n",
              "      buttonEl.style.display =\n",
              "        google.colab.kernel.accessAllowed ? 'block' : 'none';\n",
              "\n",
              "      async function convertToInteractive(key) {\n",
              "        const element = document.querySelector('#df-7c385f39-a18e-4336-9a35-ebb3189cb0b6');\n",
              "        const dataTable =\n",
              "          await google.colab.kernel.invokeFunction('convertToInteractive',\n",
              "                                                    [key], {});\n",
              "        if (!dataTable) return;\n",
              "\n",
              "        const docLinkHtml = 'Like what you see? Visit the ' +\n",
              "          '<a target=\"_blank\" href=https://colab.research.google.com/notebooks/data_table.ipynb>data table notebook</a>'\n",
              "          + ' to learn more about interactive tables.';\n",
              "        element.innerHTML = '';\n",
              "        dataTable['output_type'] = 'display_data';\n",
              "        await google.colab.output.renderOutput(dataTable, element);\n",
              "        const docLink = document.createElement('div');\n",
              "        docLink.innerHTML = docLinkHtml;\n",
              "        element.appendChild(docLink);\n",
              "      }\n",
              "    </script>\n",
              "  </div>\n",
              "\n",
              "    </div>\n",
              "  </div>\n"
            ],
            "application/vnd.google.colaboratory.intrinsic+json": {
              "type": "dataframe",
              "variable_name": "duplicated_rows",
              "repr_error": "'str' object has no attribute 'empty'"
            }
          },
          "metadata": {},
          "execution_count": 87
        }
      ]
    },
    {
      "cell_type": "markdown",
      "source": [
        "**file_analysis**"
      ],
      "metadata": {
        "id": "VnFmy9swLWQ7"
      }
    },
    {
      "cell_type": "code",
      "source": [
        "file_size = os.path.getsize(\"./vgsales.csv\")\n",
        "file_size"
      ],
      "metadata": {
        "colab": {
          "base_uri": "https://localhost:8080/"
        },
        "id": "Y6gJNDT_Ks9d",
        "outputId": "338841f0-abed-4309-c707-23f6b734bbbc"
      },
      "execution_count": null,
      "outputs": [
        {
          "output_type": "execute_result",
          "data": {
            "text/plain": [
              "1355781"
            ]
          },
          "metadata": {},
          "execution_count": 90
        }
      ]
    },
    {
      "cell_type": "code",
      "source": [
        "creation_date = os.path.getctime(\"./vgsales.csv\")\n",
        "creation_date\n"
      ],
      "metadata": {
        "colab": {
          "base_uri": "https://localhost:8080/"
        },
        "id": "d6kdhDViLgmt",
        "outputId": "73ec4cda-6380-4b6a-dc34-1ba79b70eceb"
      },
      "execution_count": null,
      "outputs": [
        {
          "output_type": "execute_result",
          "data": {
            "text/plain": [
              "1709537601.9946203"
            ]
          },
          "metadata": {},
          "execution_count": 91
        }
      ]
    },
    {
      "cell_type": "code",
      "source": [
        "dimensions = df.shape\n",
        "dimensions"
      ],
      "metadata": {
        "colab": {
          "base_uri": "https://localhost:8080/"
        },
        "id": "zsuiCjqHMrot",
        "outputId": "1e3c5aa9-c325-4b23-963b-bf4a43a71022"
      },
      "execution_count": null,
      "outputs": [
        {
          "output_type": "execute_result",
          "data": {
            "text/plain": [
              "(16598, 11)"
            ]
          },
          "metadata": {},
          "execution_count": 92
        }
      ]
    },
    {
      "cell_type": "markdown",
      "source": [
        "**Missing values: **"
      ],
      "metadata": {
        "id": "ervzqHraOh5E"
      }
    },
    {
      "cell_type": "code",
      "source": [
        "missing_values_count = df.isnull().sum()\n",
        "print(missing_values_count)\n"
      ],
      "metadata": {
        "colab": {
          "base_uri": "https://localhost:8080/"
        },
        "id": "YFEMJ9O_M1JP",
        "outputId": "fe5df874-0dd3-4356-ba62-0fe205111c42"
      },
      "execution_count": null,
      "outputs": [
        {
          "output_type": "stream",
          "name": "stdout",
          "text": [
            "Rank              0\n",
            "Name              0\n",
            "Platform          0\n",
            "Year            271\n",
            "Genre             0\n",
            "Publisher        58\n",
            "NA_Sales          0\n",
            "EU_Sales          0\n",
            "JP_Sales          0\n",
            "Other_Sales       0\n",
            "Global_Sales      0\n",
            "dtype: int64\n"
          ]
        }
      ]
    },
    {
      "cell_type": "code",
      "source": [
        "import seaborn as sns\n",
        "import matplotlib.pyplot as plt\n",
        "\n",
        "missing_values_matrix = df.isnull()\n",
        "plt.figure(figsize=(10, 8))\n",
        "sns.heatmap(missing_values_matrix, cmap='viridis')\n",
        "plt.title('Missing Values Matrix')\n",
        "plt.show()"
      ],
      "metadata": {
        "colab": {
          "base_uri": "https://localhost:8080/",
          "height": 773
        },
        "id": "_en7u-jCPKOq",
        "outputId": "658e919d-c31d-48fc-8492-04ac755a5ce1"
      },
      "execution_count": null,
      "outputs": [
        {
          "output_type": "display_data",
          "data": {
            "text/plain": [
              "<Figure size 1000x800 with 2 Axes>"
            ],
            "image/png": "[encoded data removed]"
          },
          "metadata": {}
        }
      ]
    },
    {
      "cell_type": "code",
      "source": [
        "\n"
      ],
      "metadata": {
        "id": "AGE8EkNOXBJ8"
      },
      "execution_count": null,
      "outputs": []
    },
    {
      "cell_type": "code",
      "source": [],
      "metadata": {
        "id": "kDKdj3b4YODJ"
      },
      "execution_count": null,
      "outputs": []
    }
  ]
}